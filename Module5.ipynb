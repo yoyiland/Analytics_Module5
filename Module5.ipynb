{
 "cells": [
  {
   "cell_type": "markdown",
   "metadata": {},
   "source": [
    "# Task 2 Module 5 -  Yoselin Delgado"
   ]
  },
  {
   "cell_type": "markdown",
   "metadata": {},
   "source": [
    "##### An example of a .csv file (you can use one from courses 1-3) you've loaded to your Notebook"
   ]
  },
  {
   "cell_type": "code",
   "execution_count": 1,
   "metadata": {},
   "outputs": [],
   "source": [
    "# Load the Pandas libraries with alias 'pd' \n",
    "import pandas as pd\n",
    "import numpy as np\n",
    "pd.set_option('max_columns', 120)\n",
    "pd.set_option('max_colwidth', 5000)\n",
    "import matplotlib.pyplot as plt\n",
    "import seaborn as sns\n",
    "%matplotlib inline\n",
    "# Instead of a group by, use seaborn to plot the number of males and females\n",
    "plt.rcParams['figure.figsize'] = (12,8)\n"
   ]
  },
  {
   "cell_type": "code",
   "execution_count": 2,
   "metadata": {},
   "outputs": [
    {
     "name": "stderr",
     "output_type": "stream",
     "text": [
      "C:\\Users\\yoselind\\AppData\\Local\\Continuum\\anaconda3\\lib\\site-packages\\seaborn\\categorical.py:3666: UserWarning: The `factorplot` function has been renamed to `catplot`. The original name will be removed in a future release. Please update your code. Note that the default `kind` in `factorplot` (`'point'`) has changed `'strip'` in `catplot`.\n",
      "  warnings.warn(msg)\n"
     ]
    },
    {
     "data": {
      "text/plain": [
       "<seaborn.axisgrid.FacetGrid at 0x2ae3969b448>"
      ]
     },
     "execution_count": 2,
     "metadata": {},
     "output_type": "execute_result"
    },
    {
     "data": {
      "image/png": "[encoded data removed]",
      "text/plain": [
       "<Figure size 540x360 with 1 Axes>"
      ]
     },
     "metadata": {
      "needs_background": "light"
     },
     "output_type": "display_data"
    }
   ],
   "source": [
    "#Loading The Data Into Pandas\n",
    "# skip row 1 so pandas can parse the data properly.\n",
    "credit = pd.read_csv('C:/Users/yoselind/Desktop/Module5/creditcard.csv', skiprows=1, low_memory=False)\n",
    "sns.factorplot('SEX', data=credit, kind='count', aspect=1.5)"
   ]
  },
  {
   "cell_type": "code",
   "execution_count": 3,
   "metadata": {},
   "outputs": [
    {
     "data": {
      "text/html": [
       "<div>\n",
       "<style scoped>\n",
       "    .dataframe tbody tr th:only-of-type {\n",
       "        vertical-align: middle;\n",
       "    }\n",
       "\n",
       "    .dataframe tbody tr th {\n",
       "        vertical-align: top;\n",
       "    }\n",
       "\n",
       "    .dataframe thead th {\n",
       "        text-align: right;\n",
       "    }\n",
       "</style>\n",
       "<table border=\"1\" class=\"dataframe\">\n",
       "  <thead>\n",
       "    <tr style=\"text-align: right;\">\n",
       "      <th></th>\n",
       "      <th>ID</th>\n",
       "      <th>LIMIT_BAL</th>\n",
       "      <th>SEX</th>\n",
       "      <th>EDUCATION</th>\n",
       "      <th>MARRIAGE</th>\n",
       "      <th>AGE</th>\n",
       "      <th>PAY_0</th>\n",
       "      <th>PAY_2</th>\n",
       "      <th>PAY_3</th>\n",
       "      <th>PAY_4</th>\n",
       "      <th>PAY_5</th>\n",
       "      <th>PAY_6</th>\n",
       "      <th>BILL_AMT1</th>\n",
       "      <th>BILL_AMT2</th>\n",
       "      <th>BILL_AMT3</th>\n",
       "      <th>BILL_AMT4</th>\n",
       "      <th>BILL_AMT5</th>\n",
       "      <th>BILL_AMT6</th>\n",
       "      <th>PAY_AMT1</th>\n",
       "      <th>PAY_AMT2</th>\n",
       "      <th>PAY_AMT3</th>\n",
       "      <th>PAY_AMT4</th>\n",
       "      <th>PAY_AMT5</th>\n",
       "      <th>PAY_AMT6</th>\n",
       "      <th>default payment next month</th>\n",
       "    </tr>\n",
       "  </thead>\n",
       "  <tbody>\n",
       "    <tr>\n",
       "      <td>0</td>\n",
       "      <td>1</td>\n",
       "      <td>20000</td>\n",
       "      <td>2</td>\n",
       "      <td>2</td>\n",
       "      <td>1</td>\n",
       "      <td>24</td>\n",
       "      <td>2</td>\n",
       "      <td>2</td>\n",
       "      <td>-1</td>\n",
       "      <td>-1</td>\n",
       "      <td>-2</td>\n",
       "      <td>-2</td>\n",
       "      <td>3913</td>\n",
       "      <td>3102</td>\n",
       "      <td>689</td>\n",
       "      <td>0</td>\n",
       "      <td>0</td>\n",
       "      <td>0</td>\n",
       "      <td>0</td>\n",
       "      <td>689</td>\n",
       "      <td>0</td>\n",
       "      <td>0</td>\n",
       "      <td>0</td>\n",
       "      <td>0</td>\n",
       "      <td>1</td>\n",
       "    </tr>\n",
       "    <tr>\n",
       "      <td>1</td>\n",
       "      <td>2</td>\n",
       "      <td>120000</td>\n",
       "      <td>2</td>\n",
       "      <td>2</td>\n",
       "      <td>2</td>\n",
       "      <td>26</td>\n",
       "      <td>-1</td>\n",
       "      <td>2</td>\n",
       "      <td>0</td>\n",
       "      <td>0</td>\n",
       "      <td>0</td>\n",
       "      <td>2</td>\n",
       "      <td>2682</td>\n",
       "      <td>1725</td>\n",
       "      <td>2682</td>\n",
       "      <td>3272</td>\n",
       "      <td>3455</td>\n",
       "      <td>3261</td>\n",
       "      <td>0</td>\n",
       "      <td>1000</td>\n",
       "      <td>1000</td>\n",
       "      <td>1000</td>\n",
       "      <td>0</td>\n",
       "      <td>2000</td>\n",
       "      <td>1</td>\n",
       "    </tr>\n",
       "    <tr>\n",
       "      <td>2</td>\n",
       "      <td>3</td>\n",
       "      <td>90000</td>\n",
       "      <td>2</td>\n",
       "      <td>2</td>\n",
       "      <td>2</td>\n",
       "      <td>34</td>\n",
       "      <td>0</td>\n",
       "      <td>0</td>\n",
       "      <td>0</td>\n",
       "      <td>0</td>\n",
       "      <td>0</td>\n",
       "      <td>0</td>\n",
       "      <td>29239</td>\n",
       "      <td>14027</td>\n",
       "      <td>13559</td>\n",
       "      <td>14331</td>\n",
       "      <td>14948</td>\n",
       "      <td>15549</td>\n",
       "      <td>1518</td>\n",
       "      <td>1500</td>\n",
       "      <td>1000</td>\n",
       "      <td>1000</td>\n",
       "      <td>1000</td>\n",
       "      <td>5000</td>\n",
       "      <td>0</td>\n",
       "    </tr>\n",
       "    <tr>\n",
       "      <td>3</td>\n",
       "      <td>4</td>\n",
       "      <td>50000</td>\n",
       "      <td>2</td>\n",
       "      <td>2</td>\n",
       "      <td>1</td>\n",
       "      <td>37</td>\n",
       "      <td>0</td>\n",
       "      <td>0</td>\n",
       "      <td>0</td>\n",
       "      <td>0</td>\n",
       "      <td>0</td>\n",
       "      <td>0</td>\n",
       "      <td>46990</td>\n",
       "      <td>48233</td>\n",
       "      <td>49291</td>\n",
       "      <td>28314</td>\n",
       "      <td>28959</td>\n",
       "      <td>29547</td>\n",
       "      <td>2000</td>\n",
       "      <td>2019</td>\n",
       "      <td>1200</td>\n",
       "      <td>1100</td>\n",
       "      <td>1069</td>\n",
       "      <td>1000</td>\n",
       "      <td>0</td>\n",
       "    </tr>\n",
       "    <tr>\n",
       "      <td>4</td>\n",
       "      <td>5</td>\n",
       "      <td>50000</td>\n",
       "      <td>1</td>\n",
       "      <td>2</td>\n",
       "      <td>1</td>\n",
       "      <td>57</td>\n",
       "      <td>-1</td>\n",
       "      <td>0</td>\n",
       "      <td>-1</td>\n",
       "      <td>0</td>\n",
       "      <td>0</td>\n",
       "      <td>0</td>\n",
       "      <td>8617</td>\n",
       "      <td>5670</td>\n",
       "      <td>35835</td>\n",
       "      <td>20940</td>\n",
       "      <td>19146</td>\n",
       "      <td>19131</td>\n",
       "      <td>2000</td>\n",
       "      <td>36681</td>\n",
       "      <td>10000</td>\n",
       "      <td>9000</td>\n",
       "      <td>689</td>\n",
       "      <td>679</td>\n",
       "      <td>0</td>\n",
       "    </tr>\n",
       "    <tr>\n",
       "      <td>...</td>\n",
       "      <td>...</td>\n",
       "      <td>...</td>\n",
       "      <td>...</td>\n",
       "      <td>...</td>\n",
       "      <td>...</td>\n",
       "      <td>...</td>\n",
       "      <td>...</td>\n",
       "      <td>...</td>\n",
       "      <td>...</td>\n",
       "      <td>...</td>\n",
       "      <td>...</td>\n",
       "      <td>...</td>\n",
       "      <td>...</td>\n",
       "      <td>...</td>\n",
       "      <td>...</td>\n",
       "      <td>...</td>\n",
       "      <td>...</td>\n",
       "      <td>...</td>\n",
       "      <td>...</td>\n",
       "      <td>...</td>\n",
       "      <td>...</td>\n",
       "      <td>...</td>\n",
       "      <td>...</td>\n",
       "      <td>...</td>\n",
       "      <td>...</td>\n",
       "    </tr>\n",
       "    <tr>\n",
       "      <td>29995</td>\n",
       "      <td>29996</td>\n",
       "      <td>220000</td>\n",
       "      <td>1</td>\n",
       "      <td>3</td>\n",
       "      <td>1</td>\n",
       "      <td>39</td>\n",
       "      <td>0</td>\n",
       "      <td>0</td>\n",
       "      <td>0</td>\n",
       "      <td>0</td>\n",
       "      <td>0</td>\n",
       "      <td>0</td>\n",
       "      <td>188948</td>\n",
       "      <td>192815</td>\n",
       "      <td>208365</td>\n",
       "      <td>88004</td>\n",
       "      <td>31237</td>\n",
       "      <td>15980</td>\n",
       "      <td>8500</td>\n",
       "      <td>20000</td>\n",
       "      <td>5003</td>\n",
       "      <td>3047</td>\n",
       "      <td>5000</td>\n",
       "      <td>1000</td>\n",
       "      <td>0</td>\n",
       "    </tr>\n",
       "    <tr>\n",
       "      <td>29996</td>\n",
       "      <td>29997</td>\n",
       "      <td>150000</td>\n",
       "      <td>1</td>\n",
       "      <td>3</td>\n",
       "      <td>2</td>\n",
       "      <td>43</td>\n",
       "      <td>-1</td>\n",
       "      <td>-1</td>\n",
       "      <td>-1</td>\n",
       "      <td>-1</td>\n",
       "      <td>0</td>\n",
       "      <td>0</td>\n",
       "      <td>1683</td>\n",
       "      <td>1828</td>\n",
       "      <td>3502</td>\n",
       "      <td>8979</td>\n",
       "      <td>5190</td>\n",
       "      <td>0</td>\n",
       "      <td>1837</td>\n",
       "      <td>3526</td>\n",
       "      <td>8998</td>\n",
       "      <td>129</td>\n",
       "      <td>0</td>\n",
       "      <td>0</td>\n",
       "      <td>0</td>\n",
       "    </tr>\n",
       "    <tr>\n",
       "      <td>29997</td>\n",
       "      <td>29998</td>\n",
       "      <td>30000</td>\n",
       "      <td>1</td>\n",
       "      <td>2</td>\n",
       "      <td>2</td>\n",
       "      <td>37</td>\n",
       "      <td>4</td>\n",
       "      <td>3</td>\n",
       "      <td>2</td>\n",
       "      <td>-1</td>\n",
       "      <td>0</td>\n",
       "      <td>0</td>\n",
       "      <td>3565</td>\n",
       "      <td>3356</td>\n",
       "      <td>2758</td>\n",
       "      <td>20878</td>\n",
       "      <td>20582</td>\n",
       "      <td>19357</td>\n",
       "      <td>0</td>\n",
       "      <td>0</td>\n",
       "      <td>22000</td>\n",
       "      <td>4200</td>\n",
       "      <td>2000</td>\n",
       "      <td>3100</td>\n",
       "      <td>1</td>\n",
       "    </tr>\n",
       "    <tr>\n",
       "      <td>29998</td>\n",
       "      <td>29999</td>\n",
       "      <td>80000</td>\n",
       "      <td>1</td>\n",
       "      <td>3</td>\n",
       "      <td>1</td>\n",
       "      <td>41</td>\n",
       "      <td>1</td>\n",
       "      <td>-1</td>\n",
       "      <td>0</td>\n",
       "      <td>0</td>\n",
       "      <td>0</td>\n",
       "      <td>-1</td>\n",
       "      <td>-1645</td>\n",
       "      <td>78379</td>\n",
       "      <td>76304</td>\n",
       "      <td>52774</td>\n",
       "      <td>11855</td>\n",
       "      <td>48944</td>\n",
       "      <td>85900</td>\n",
       "      <td>3409</td>\n",
       "      <td>1178</td>\n",
       "      <td>1926</td>\n",
       "      <td>52964</td>\n",
       "      <td>1804</td>\n",
       "      <td>1</td>\n",
       "    </tr>\n",
       "    <tr>\n",
       "      <td>29999</td>\n",
       "      <td>30000</td>\n",
       "      <td>50000</td>\n",
       "      <td>1</td>\n",
       "      <td>2</td>\n",
       "      <td>1</td>\n",
       "      <td>46</td>\n",
       "      <td>0</td>\n",
       "      <td>0</td>\n",
       "      <td>0</td>\n",
       "      <td>0</td>\n",
       "      <td>0</td>\n",
       "      <td>0</td>\n",
       "      <td>47929</td>\n",
       "      <td>48905</td>\n",
       "      <td>49764</td>\n",
       "      <td>36535</td>\n",
       "      <td>32428</td>\n",
       "      <td>15313</td>\n",
       "      <td>2078</td>\n",
       "      <td>1800</td>\n",
       "      <td>1430</td>\n",
       "      <td>1000</td>\n",
       "      <td>1000</td>\n",
       "      <td>1000</td>\n",
       "      <td>1</td>\n",
       "    </tr>\n",
       "  </tbody>\n",
       "</table>\n",
       "<p>30000 rows × 25 columns</p>\n",
       "</div>"
      ],
      "text/plain": [
       "          ID  LIMIT_BAL  SEX  EDUCATION  MARRIAGE  AGE  PAY_0  PAY_2  PAY_3  \\\n",
       "0          1      20000    2          2         1   24      2      2     -1   \n",
       "1          2     120000    2          2         2   26     -1      2      0   \n",
       "2          3      90000    2          2         2   34      0      0      0   \n",
       "3          4      50000    2          2         1   37      0      0      0   \n",
       "4          5      50000    1          2         1   57     -1      0     -1   \n",
       "...      ...        ...  ...        ...       ...  ...    ...    ...    ...   \n",
       "29995  29996     220000    1          3         1   39      0      0      0   \n",
       "29996  29997     150000    1          3         2   43     -1     -1     -1   \n",
       "29997  29998      30000    1          2         2   37      4      3      2   \n",
       "29998  29999      80000    1          3         1   41      1     -1      0   \n",
       "29999  30000      50000    1          2         1   46      0      0      0   \n",
       "\n",
       "       PAY_4  PAY_5  PAY_6  BILL_AMT1  BILL_AMT2  BILL_AMT3  BILL_AMT4  \\\n",
       "0         -1     -2     -2       3913       3102        689          0   \n",
       "1          0      0      2       2682       1725       2682       3272   \n",
       "2          0      0      0      29239      14027      13559      14331   \n",
       "3          0      0      0      46990      48233      49291      28314   \n",
       "4          0      0      0       8617       5670      35835      20940   \n",
       "...      ...    ...    ...        ...        ...        ...        ...   \n",
       "29995      0      0      0     188948     192815     208365      88004   \n",
       "29996     -1      0      0       1683       1828       3502       8979   \n",
       "29997     -1      0      0       3565       3356       2758      20878   \n",
       "29998      0      0     -1      -1645      78379      76304      52774   \n",
       "29999      0      0      0      47929      48905      49764      36535   \n",
       "\n",
       "       BILL_AMT5  BILL_AMT6  PAY_AMT1  PAY_AMT2  PAY_AMT3  PAY_AMT4  PAY_AMT5  \\\n",
       "0              0          0         0       689         0         0         0   \n",
       "1           3455       3261         0      1000      1000      1000         0   \n",
       "2          14948      15549      1518      1500      1000      1000      1000   \n",
       "3          28959      29547      2000      2019      1200      1100      1069   \n",
       "4          19146      19131      2000     36681     10000      9000       689   \n",
       "...          ...        ...       ...       ...       ...       ...       ...   \n",
       "29995      31237      15980      8500     20000      5003      3047      5000   \n",
       "29996       5190          0      1837      3526      8998       129         0   \n",
       "29997      20582      19357         0         0     22000      4200      2000   \n",
       "29998      11855      48944     85900      3409      1178      1926     52964   \n",
       "29999      32428      15313      2078      1800      1430      1000      1000   \n",
       "\n",
       "       PAY_AMT6  default payment next month  \n",
       "0             0                           1  \n",
       "1          2000                           1  \n",
       "2          5000                           0  \n",
       "3          1000                           0  \n",
       "4           679                           0  \n",
       "...         ...                         ...  \n",
       "29995      1000                           0  \n",
       "29996         0                           0  \n",
       "29997      3100                           1  \n",
       "29998      1804                           1  \n",
       "29999      1000                           1  \n",
       "\n",
       "[30000 rows x 25 columns]"
      ]
     },
     "execution_count": 3,
     "metadata": {},
     "output_type": "execute_result"
    }
   ],
   "source": [
    "credit"
   ]
  },
  {
   "cell_type": "code",
   "execution_count": 4,
   "metadata": {},
   "outputs": [
    {
     "data": {
      "text/html": [
       "<div>\n",
       "<style scoped>\n",
       "    .dataframe tbody tr th:only-of-type {\n",
       "        vertical-align: middle;\n",
       "    }\n",
       "\n",
       "    .dataframe tbody tr th {\n",
       "        vertical-align: top;\n",
       "    }\n",
       "\n",
       "    .dataframe thead th {\n",
       "        text-align: right;\n",
       "    }\n",
       "</style>\n",
       "<table border=\"1\" class=\"dataframe\">\n",
       "  <thead>\n",
       "    <tr style=\"text-align: right;\">\n",
       "      <th></th>\n",
       "      <th>ID</th>\n",
       "      <th>LIMIT_BAL</th>\n",
       "      <th>SEX</th>\n",
       "      <th>EDUCATION</th>\n",
       "      <th>MARRIAGE</th>\n",
       "      <th>AGE</th>\n",
       "      <th>PAY_0</th>\n",
       "      <th>PAY_2</th>\n",
       "      <th>PAY_3</th>\n",
       "      <th>PAY_4</th>\n",
       "      <th>PAY_5</th>\n",
       "      <th>PAY_6</th>\n",
       "      <th>BILL_AMT1</th>\n",
       "      <th>BILL_AMT2</th>\n",
       "      <th>BILL_AMT3</th>\n",
       "      <th>BILL_AMT4</th>\n",
       "      <th>BILL_AMT5</th>\n",
       "      <th>BILL_AMT6</th>\n",
       "      <th>PAY_AMT1</th>\n",
       "      <th>PAY_AMT2</th>\n",
       "      <th>PAY_AMT3</th>\n",
       "      <th>PAY_AMT4</th>\n",
       "      <th>PAY_AMT5</th>\n",
       "      <th>PAY_AMT6</th>\n",
       "      <th>default payment next month</th>\n",
       "    </tr>\n",
       "  </thead>\n",
       "  <tbody>\n",
       "    <tr>\n",
       "      <td>0</td>\n",
       "      <td>1</td>\n",
       "      <td>20000</td>\n",
       "      <td>2</td>\n",
       "      <td>2</td>\n",
       "      <td>1</td>\n",
       "      <td>24</td>\n",
       "      <td>2</td>\n",
       "      <td>2</td>\n",
       "      <td>-1</td>\n",
       "      <td>-1</td>\n",
       "      <td>-2</td>\n",
       "      <td>-2</td>\n",
       "      <td>3913</td>\n",
       "      <td>3102</td>\n",
       "      <td>689</td>\n",
       "      <td>0</td>\n",
       "      <td>0</td>\n",
       "      <td>0</td>\n",
       "      <td>0</td>\n",
       "      <td>689</td>\n",
       "      <td>0</td>\n",
       "      <td>0</td>\n",
       "      <td>0</td>\n",
       "      <td>0</td>\n",
       "      <td>1</td>\n",
       "    </tr>\n",
       "    <tr>\n",
       "      <td>1</td>\n",
       "      <td>2</td>\n",
       "      <td>120000</td>\n",
       "      <td>2</td>\n",
       "      <td>2</td>\n",
       "      <td>2</td>\n",
       "      <td>26</td>\n",
       "      <td>-1</td>\n",
       "      <td>2</td>\n",
       "      <td>0</td>\n",
       "      <td>0</td>\n",
       "      <td>0</td>\n",
       "      <td>2</td>\n",
       "      <td>2682</td>\n",
       "      <td>1725</td>\n",
       "      <td>2682</td>\n",
       "      <td>3272</td>\n",
       "      <td>3455</td>\n",
       "      <td>3261</td>\n",
       "      <td>0</td>\n",
       "      <td>1000</td>\n",
       "      <td>1000</td>\n",
       "      <td>1000</td>\n",
       "      <td>0</td>\n",
       "      <td>2000</td>\n",
       "      <td>1</td>\n",
       "    </tr>\n",
       "    <tr>\n",
       "      <td>2</td>\n",
       "      <td>3</td>\n",
       "      <td>90000</td>\n",
       "      <td>2</td>\n",
       "      <td>2</td>\n",
       "      <td>2</td>\n",
       "      <td>34</td>\n",
       "      <td>0</td>\n",
       "      <td>0</td>\n",
       "      <td>0</td>\n",
       "      <td>0</td>\n",
       "      <td>0</td>\n",
       "      <td>0</td>\n",
       "      <td>29239</td>\n",
       "      <td>14027</td>\n",
       "      <td>13559</td>\n",
       "      <td>14331</td>\n",
       "      <td>14948</td>\n",
       "      <td>15549</td>\n",
       "      <td>1518</td>\n",
       "      <td>1500</td>\n",
       "      <td>1000</td>\n",
       "      <td>1000</td>\n",
       "      <td>1000</td>\n",
       "      <td>5000</td>\n",
       "      <td>0</td>\n",
       "    </tr>\n",
       "    <tr>\n",
       "      <td>3</td>\n",
       "      <td>4</td>\n",
       "      <td>50000</td>\n",
       "      <td>2</td>\n",
       "      <td>2</td>\n",
       "      <td>1</td>\n",
       "      <td>37</td>\n",
       "      <td>0</td>\n",
       "      <td>0</td>\n",
       "      <td>0</td>\n",
       "      <td>0</td>\n",
       "      <td>0</td>\n",
       "      <td>0</td>\n",
       "      <td>46990</td>\n",
       "      <td>48233</td>\n",
       "      <td>49291</td>\n",
       "      <td>28314</td>\n",
       "      <td>28959</td>\n",
       "      <td>29547</td>\n",
       "      <td>2000</td>\n",
       "      <td>2019</td>\n",
       "      <td>1200</td>\n",
       "      <td>1100</td>\n",
       "      <td>1069</td>\n",
       "      <td>1000</td>\n",
       "      <td>0</td>\n",
       "    </tr>\n",
       "    <tr>\n",
       "      <td>4</td>\n",
       "      <td>5</td>\n",
       "      <td>50000</td>\n",
       "      <td>1</td>\n",
       "      <td>2</td>\n",
       "      <td>1</td>\n",
       "      <td>57</td>\n",
       "      <td>-1</td>\n",
       "      <td>0</td>\n",
       "      <td>-1</td>\n",
       "      <td>0</td>\n",
       "      <td>0</td>\n",
       "      <td>0</td>\n",
       "      <td>8617</td>\n",
       "      <td>5670</td>\n",
       "      <td>35835</td>\n",
       "      <td>20940</td>\n",
       "      <td>19146</td>\n",
       "      <td>19131</td>\n",
       "      <td>2000</td>\n",
       "      <td>36681</td>\n",
       "      <td>10000</td>\n",
       "      <td>9000</td>\n",
       "      <td>689</td>\n",
       "      <td>679</td>\n",
       "      <td>0</td>\n",
       "    </tr>\n",
       "  </tbody>\n",
       "</table>\n",
       "</div>"
      ],
      "text/plain": [
       "   ID  LIMIT_BAL  SEX  EDUCATION  MARRIAGE  AGE  PAY_0  PAY_2  PAY_3  PAY_4  \\\n",
       "0   1      20000    2          2         1   24      2      2     -1     -1   \n",
       "1   2     120000    2          2         2   26     -1      2      0      0   \n",
       "2   3      90000    2          2         2   34      0      0      0      0   \n",
       "3   4      50000    2          2         1   37      0      0      0      0   \n",
       "4   5      50000    1          2         1   57     -1      0     -1      0   \n",
       "\n",
       "   PAY_5  PAY_6  BILL_AMT1  BILL_AMT2  BILL_AMT3  BILL_AMT4  BILL_AMT5  \\\n",
       "0     -2     -2       3913       3102        689          0          0   \n",
       "1      0      2       2682       1725       2682       3272       3455   \n",
       "2      0      0      29239      14027      13559      14331      14948   \n",
       "3      0      0      46990      48233      49291      28314      28959   \n",
       "4      0      0       8617       5670      35835      20940      19146   \n",
       "\n",
       "   BILL_AMT6  PAY_AMT1  PAY_AMT2  PAY_AMT3  PAY_AMT4  PAY_AMT5  PAY_AMT6  \\\n",
       "0          0         0       689         0         0         0         0   \n",
       "1       3261         0      1000      1000      1000         0      2000   \n",
       "2      15549      1518      1500      1000      1000      1000      5000   \n",
       "3      29547      2000      2019      1200      1100      1069      1000   \n",
       "4      19131      2000     36681     10000      9000       689       679   \n",
       "\n",
       "   default payment next month  \n",
       "0                           1  \n",
       "1                           1  \n",
       "2                           0  \n",
       "3                           0  \n",
       "4                           0  "
      ]
     },
     "execution_count": 4,
     "metadata": {},
     "output_type": "execute_result"
    }
   ],
   "source": [
    "credit.head()"
   ]
  },
  {
   "cell_type": "code",
   "execution_count": 5,
   "metadata": {},
   "outputs": [
    {
     "name": "stdout",
     "output_type": "stream",
     "text": [
      "<class 'pandas.core.frame.DataFrame'>\n",
      "RangeIndex: 30000 entries, 0 to 29999\n",
      "Data columns (total 25 columns):\n",
      "ID                            30000 non-null int64\n",
      "LIMIT_BAL                     30000 non-null int64\n",
      "SEX                           30000 non-null int64\n",
      "EDUCATION                     30000 non-null int64\n",
      "MARRIAGE                      30000 non-null int64\n",
      "AGE                           30000 non-null int64\n",
      "PAY_0                         30000 non-null int64\n",
      "PAY_2                         30000 non-null int64\n",
      "PAY_3                         30000 non-null int64\n",
      "PAY_4                         30000 non-null int64\n",
      "PAY_5                         30000 non-null int64\n",
      "PAY_6                         30000 non-null int64\n",
      "BILL_AMT1                     30000 non-null int64\n",
      "BILL_AMT2                     30000 non-null int64\n",
      "BILL_AMT3                     30000 non-null int64\n",
      "BILL_AMT4                     30000 non-null int64\n",
      "BILL_AMT5                     30000 non-null int64\n",
      "BILL_AMT6                     30000 non-null int64\n",
      "PAY_AMT1                      30000 non-null int64\n",
      "PAY_AMT2                      30000 non-null int64\n",
      "PAY_AMT3                      30000 non-null int64\n",
      "PAY_AMT4                      30000 non-null int64\n",
      "PAY_AMT5                      30000 non-null int64\n",
      "PAY_AMT6                      30000 non-null int64\n",
      "default payment next month    30000 non-null int64\n",
      "dtypes: int64(25)\n",
      "memory usage: 5.7 MB\n"
     ]
    }
   ],
   "source": [
    "credit.info()"
   ]
  },
  {
   "cell_type": "markdown",
   "metadata": {},
   "source": [
    "###### Data cleaning"
   ]
  },
  {
   "cell_type": "code",
   "execution_count": 6,
   "metadata": {},
   "outputs": [],
   "source": [
    "#Remove the first line: it contains extraneous text instead of the column titles\n",
    "##. This text prevents the data set from being parsed properly by the pandas library.\n",
    "##Removing all columns with more than 50% missing values: This will allow us to work faster (and our data set is large enough that it will still be meaningful without them."
   ]
  },
  {
   "cell_type": "code",
   "execution_count": 7,
   "metadata": {},
   "outputs": [],
   "source": [
    "half_count = len(credit) / 2"
   ]
  },
  {
   "cell_type": "code",
   "execution_count": 8,
   "metadata": {},
   "outputs": [
    {
     "data": {
      "text/plain": [
       "15000.0"
      ]
     },
     "execution_count": 8,
     "metadata": {},
     "output_type": "execute_result"
    }
   ],
   "source": [
    "half_count"
   ]
  },
  {
   "cell_type": "code",
   "execution_count": 9,
   "metadata": {},
   "outputs": [],
   "source": [
    "credit = credit.dropna(thresh=half_count,axis=1) # Drop any column with more than 50% missing values"
   ]
  },
  {
   "cell_type": "code",
   "execution_count": 10,
   "metadata": {},
   "outputs": [
    {
     "data": {
      "text/html": [
       "<div>\n",
       "<style scoped>\n",
       "    .dataframe tbody tr th:only-of-type {\n",
       "        vertical-align: middle;\n",
       "    }\n",
       "\n",
       "    .dataframe tbody tr th {\n",
       "        vertical-align: top;\n",
       "    }\n",
       "\n",
       "    .dataframe thead th {\n",
       "        text-align: right;\n",
       "    }\n",
       "</style>\n",
       "<table border=\"1\" class=\"dataframe\">\n",
       "  <thead>\n",
       "    <tr style=\"text-align: right;\">\n",
       "      <th></th>\n",
       "      <th>ID</th>\n",
       "      <th>LIMIT_BAL</th>\n",
       "      <th>SEX</th>\n",
       "      <th>EDUCATION</th>\n",
       "      <th>MARRIAGE</th>\n",
       "      <th>AGE</th>\n",
       "      <th>PAY_0</th>\n",
       "      <th>PAY_2</th>\n",
       "      <th>PAY_3</th>\n",
       "      <th>PAY_4</th>\n",
       "      <th>PAY_5</th>\n",
       "      <th>PAY_6</th>\n",
       "      <th>BILL_AMT1</th>\n",
       "      <th>BILL_AMT2</th>\n",
       "      <th>BILL_AMT3</th>\n",
       "      <th>BILL_AMT4</th>\n",
       "      <th>BILL_AMT5</th>\n",
       "      <th>BILL_AMT6</th>\n",
       "      <th>PAY_AMT1</th>\n",
       "      <th>PAY_AMT2</th>\n",
       "      <th>PAY_AMT3</th>\n",
       "      <th>PAY_AMT4</th>\n",
       "      <th>PAY_AMT5</th>\n",
       "      <th>PAY_AMT6</th>\n",
       "      <th>default payment next month</th>\n",
       "    </tr>\n",
       "  </thead>\n",
       "  <tbody>\n",
       "    <tr>\n",
       "      <td>0</td>\n",
       "      <td>1</td>\n",
       "      <td>20000</td>\n",
       "      <td>2</td>\n",
       "      <td>2</td>\n",
       "      <td>1</td>\n",
       "      <td>24</td>\n",
       "      <td>2</td>\n",
       "      <td>2</td>\n",
       "      <td>-1</td>\n",
       "      <td>-1</td>\n",
       "      <td>-2</td>\n",
       "      <td>-2</td>\n",
       "      <td>3913</td>\n",
       "      <td>3102</td>\n",
       "      <td>689</td>\n",
       "      <td>0</td>\n",
       "      <td>0</td>\n",
       "      <td>0</td>\n",
       "      <td>0</td>\n",
       "      <td>689</td>\n",
       "      <td>0</td>\n",
       "      <td>0</td>\n",
       "      <td>0</td>\n",
       "      <td>0</td>\n",
       "      <td>1</td>\n",
       "    </tr>\n",
       "    <tr>\n",
       "      <td>1</td>\n",
       "      <td>2</td>\n",
       "      <td>120000</td>\n",
       "      <td>2</td>\n",
       "      <td>2</td>\n",
       "      <td>2</td>\n",
       "      <td>26</td>\n",
       "      <td>-1</td>\n",
       "      <td>2</td>\n",
       "      <td>0</td>\n",
       "      <td>0</td>\n",
       "      <td>0</td>\n",
       "      <td>2</td>\n",
       "      <td>2682</td>\n",
       "      <td>1725</td>\n",
       "      <td>2682</td>\n",
       "      <td>3272</td>\n",
       "      <td>3455</td>\n",
       "      <td>3261</td>\n",
       "      <td>0</td>\n",
       "      <td>1000</td>\n",
       "      <td>1000</td>\n",
       "      <td>1000</td>\n",
       "      <td>0</td>\n",
       "      <td>2000</td>\n",
       "      <td>1</td>\n",
       "    </tr>\n",
       "    <tr>\n",
       "      <td>2</td>\n",
       "      <td>3</td>\n",
       "      <td>90000</td>\n",
       "      <td>2</td>\n",
       "      <td>2</td>\n",
       "      <td>2</td>\n",
       "      <td>34</td>\n",
       "      <td>0</td>\n",
       "      <td>0</td>\n",
       "      <td>0</td>\n",
       "      <td>0</td>\n",
       "      <td>0</td>\n",
       "      <td>0</td>\n",
       "      <td>29239</td>\n",
       "      <td>14027</td>\n",
       "      <td>13559</td>\n",
       "      <td>14331</td>\n",
       "      <td>14948</td>\n",
       "      <td>15549</td>\n",
       "      <td>1518</td>\n",
       "      <td>1500</td>\n",
       "      <td>1000</td>\n",
       "      <td>1000</td>\n",
       "      <td>1000</td>\n",
       "      <td>5000</td>\n",
       "      <td>0</td>\n",
       "    </tr>\n",
       "    <tr>\n",
       "      <td>3</td>\n",
       "      <td>4</td>\n",
       "      <td>50000</td>\n",
       "      <td>2</td>\n",
       "      <td>2</td>\n",
       "      <td>1</td>\n",
       "      <td>37</td>\n",
       "      <td>0</td>\n",
       "      <td>0</td>\n",
       "      <td>0</td>\n",
       "      <td>0</td>\n",
       "      <td>0</td>\n",
       "      <td>0</td>\n",
       "      <td>46990</td>\n",
       "      <td>48233</td>\n",
       "      <td>49291</td>\n",
       "      <td>28314</td>\n",
       "      <td>28959</td>\n",
       "      <td>29547</td>\n",
       "      <td>2000</td>\n",
       "      <td>2019</td>\n",
       "      <td>1200</td>\n",
       "      <td>1100</td>\n",
       "      <td>1069</td>\n",
       "      <td>1000</td>\n",
       "      <td>0</td>\n",
       "    </tr>\n",
       "    <tr>\n",
       "      <td>4</td>\n",
       "      <td>5</td>\n",
       "      <td>50000</td>\n",
       "      <td>1</td>\n",
       "      <td>2</td>\n",
       "      <td>1</td>\n",
       "      <td>57</td>\n",
       "      <td>-1</td>\n",
       "      <td>0</td>\n",
       "      <td>-1</td>\n",
       "      <td>0</td>\n",
       "      <td>0</td>\n",
       "      <td>0</td>\n",
       "      <td>8617</td>\n",
       "      <td>5670</td>\n",
       "      <td>35835</td>\n",
       "      <td>20940</td>\n",
       "      <td>19146</td>\n",
       "      <td>19131</td>\n",
       "      <td>2000</td>\n",
       "      <td>36681</td>\n",
       "      <td>10000</td>\n",
       "      <td>9000</td>\n",
       "      <td>689</td>\n",
       "      <td>679</td>\n",
       "      <td>0</td>\n",
       "    </tr>\n",
       "    <tr>\n",
       "      <td>...</td>\n",
       "      <td>...</td>\n",
       "      <td>...</td>\n",
       "      <td>...</td>\n",
       "      <td>...</td>\n",
       "      <td>...</td>\n",
       "      <td>...</td>\n",
       "      <td>...</td>\n",
       "      <td>...</td>\n",
       "      <td>...</td>\n",
       "      <td>...</td>\n",
       "      <td>...</td>\n",
       "      <td>...</td>\n",
       "      <td>...</td>\n",
       "      <td>...</td>\n",
       "      <td>...</td>\n",
       "      <td>...</td>\n",
       "      <td>...</td>\n",
       "      <td>...</td>\n",
       "      <td>...</td>\n",
       "      <td>...</td>\n",
       "      <td>...</td>\n",
       "      <td>...</td>\n",
       "      <td>...</td>\n",
       "      <td>...</td>\n",
       "      <td>...</td>\n",
       "    </tr>\n",
       "    <tr>\n",
       "      <td>29995</td>\n",
       "      <td>29996</td>\n",
       "      <td>220000</td>\n",
       "      <td>1</td>\n",
       "      <td>3</td>\n",
       "      <td>1</td>\n",
       "      <td>39</td>\n",
       "      <td>0</td>\n",
       "      <td>0</td>\n",
       "      <td>0</td>\n",
       "      <td>0</td>\n",
       "      <td>0</td>\n",
       "      <td>0</td>\n",
       "      <td>188948</td>\n",
       "      <td>192815</td>\n",
       "      <td>208365</td>\n",
       "      <td>88004</td>\n",
       "      <td>31237</td>\n",
       "      <td>15980</td>\n",
       "      <td>8500</td>\n",
       "      <td>20000</td>\n",
       "      <td>5003</td>\n",
       "      <td>3047</td>\n",
       "      <td>5000</td>\n",
       "      <td>1000</td>\n",
       "      <td>0</td>\n",
       "    </tr>\n",
       "    <tr>\n",
       "      <td>29996</td>\n",
       "      <td>29997</td>\n",
       "      <td>150000</td>\n",
       "      <td>1</td>\n",
       "      <td>3</td>\n",
       "      <td>2</td>\n",
       "      <td>43</td>\n",
       "      <td>-1</td>\n",
       "      <td>-1</td>\n",
       "      <td>-1</td>\n",
       "      <td>-1</td>\n",
       "      <td>0</td>\n",
       "      <td>0</td>\n",
       "      <td>1683</td>\n",
       "      <td>1828</td>\n",
       "      <td>3502</td>\n",
       "      <td>8979</td>\n",
       "      <td>5190</td>\n",
       "      <td>0</td>\n",
       "      <td>1837</td>\n",
       "      <td>3526</td>\n",
       "      <td>8998</td>\n",
       "      <td>129</td>\n",
       "      <td>0</td>\n",
       "      <td>0</td>\n",
       "      <td>0</td>\n",
       "    </tr>\n",
       "    <tr>\n",
       "      <td>29997</td>\n",
       "      <td>29998</td>\n",
       "      <td>30000</td>\n",
       "      <td>1</td>\n",
       "      <td>2</td>\n",
       "      <td>2</td>\n",
       "      <td>37</td>\n",
       "      <td>4</td>\n",
       "      <td>3</td>\n",
       "      <td>2</td>\n",
       "      <td>-1</td>\n",
       "      <td>0</td>\n",
       "      <td>0</td>\n",
       "      <td>3565</td>\n",
       "      <td>3356</td>\n",
       "      <td>2758</td>\n",
       "      <td>20878</td>\n",
       "      <td>20582</td>\n",
       "      <td>19357</td>\n",
       "      <td>0</td>\n",
       "      <td>0</td>\n",
       "      <td>22000</td>\n",
       "      <td>4200</td>\n",
       "      <td>2000</td>\n",
       "      <td>3100</td>\n",
       "      <td>1</td>\n",
       "    </tr>\n",
       "    <tr>\n",
       "      <td>29998</td>\n",
       "      <td>29999</td>\n",
       "      <td>80000</td>\n",
       "      <td>1</td>\n",
       "      <td>3</td>\n",
       "      <td>1</td>\n",
       "      <td>41</td>\n",
       "      <td>1</td>\n",
       "      <td>-1</td>\n",
       "      <td>0</td>\n",
       "      <td>0</td>\n",
       "      <td>0</td>\n",
       "      <td>-1</td>\n",
       "      <td>-1645</td>\n",
       "      <td>78379</td>\n",
       "      <td>76304</td>\n",
       "      <td>52774</td>\n",
       "      <td>11855</td>\n",
       "      <td>48944</td>\n",
       "      <td>85900</td>\n",
       "      <td>3409</td>\n",
       "      <td>1178</td>\n",
       "      <td>1926</td>\n",
       "      <td>52964</td>\n",
       "      <td>1804</td>\n",
       "      <td>1</td>\n",
       "    </tr>\n",
       "    <tr>\n",
       "      <td>29999</td>\n",
       "      <td>30000</td>\n",
       "      <td>50000</td>\n",
       "      <td>1</td>\n",
       "      <td>2</td>\n",
       "      <td>1</td>\n",
       "      <td>46</td>\n",
       "      <td>0</td>\n",
       "      <td>0</td>\n",
       "      <td>0</td>\n",
       "      <td>0</td>\n",
       "      <td>0</td>\n",
       "      <td>0</td>\n",
       "      <td>47929</td>\n",
       "      <td>48905</td>\n",
       "      <td>49764</td>\n",
       "      <td>36535</td>\n",
       "      <td>32428</td>\n",
       "      <td>15313</td>\n",
       "      <td>2078</td>\n",
       "      <td>1800</td>\n",
       "      <td>1430</td>\n",
       "      <td>1000</td>\n",
       "      <td>1000</td>\n",
       "      <td>1000</td>\n",
       "      <td>1</td>\n",
       "    </tr>\n",
       "  </tbody>\n",
       "</table>\n",
       "<p>30000 rows × 25 columns</p>\n",
       "</div>"
      ],
      "text/plain": [
       "          ID  LIMIT_BAL  SEX  EDUCATION  MARRIAGE  AGE  PAY_0  PAY_2  PAY_3  \\\n",
       "0          1      20000    2          2         1   24      2      2     -1   \n",
       "1          2     120000    2          2         2   26     -1      2      0   \n",
       "2          3      90000    2          2         2   34      0      0      0   \n",
       "3          4      50000    2          2         1   37      0      0      0   \n",
       "4          5      50000    1          2         1   57     -1      0     -1   \n",
       "...      ...        ...  ...        ...       ...  ...    ...    ...    ...   \n",
       "29995  29996     220000    1          3         1   39      0      0      0   \n",
       "29996  29997     150000    1          3         2   43     -1     -1     -1   \n",
       "29997  29998      30000    1          2         2   37      4      3      2   \n",
       "29998  29999      80000    1          3         1   41      1     -1      0   \n",
       "29999  30000      50000    1          2         1   46      0      0      0   \n",
       "\n",
       "       PAY_4  PAY_5  PAY_6  BILL_AMT1  BILL_AMT2  BILL_AMT3  BILL_AMT4  \\\n",
       "0         -1     -2     -2       3913       3102        689          0   \n",
       "1          0      0      2       2682       1725       2682       3272   \n",
       "2          0      0      0      29239      14027      13559      14331   \n",
       "3          0      0      0      46990      48233      49291      28314   \n",
       "4          0      0      0       8617       5670      35835      20940   \n",
       "...      ...    ...    ...        ...        ...        ...        ...   \n",
       "29995      0      0      0     188948     192815     208365      88004   \n",
       "29996     -1      0      0       1683       1828       3502       8979   \n",
       "29997     -1      0      0       3565       3356       2758      20878   \n",
       "29998      0      0     -1      -1645      78379      76304      52774   \n",
       "29999      0      0      0      47929      48905      49764      36535   \n",
       "\n",
       "       BILL_AMT5  BILL_AMT6  PAY_AMT1  PAY_AMT2  PAY_AMT3  PAY_AMT4  PAY_AMT5  \\\n",
       "0              0          0         0       689         0         0         0   \n",
       "1           3455       3261         0      1000      1000      1000         0   \n",
       "2          14948      15549      1518      1500      1000      1000      1000   \n",
       "3          28959      29547      2000      2019      1200      1100      1069   \n",
       "4          19146      19131      2000     36681     10000      9000       689   \n",
       "...          ...        ...       ...       ...       ...       ...       ...   \n",
       "29995      31237      15980      8500     20000      5003      3047      5000   \n",
       "29996       5190          0      1837      3526      8998       129         0   \n",
       "29997      20582      19357         0         0     22000      4200      2000   \n",
       "29998      11855      48944     85900      3409      1178      1926     52964   \n",
       "29999      32428      15313      2078      1800      1430      1000      1000   \n",
       "\n",
       "       PAY_AMT6  default payment next month  \n",
       "0             0                           1  \n",
       "1          2000                           1  \n",
       "2          5000                           0  \n",
       "3          1000                           0  \n",
       "4           679                           0  \n",
       "...         ...                         ...  \n",
       "29995      1000                           0  \n",
       "29996         0                           0  \n",
       "29997      3100                           1  \n",
       "29998      1804                           1  \n",
       "29999      1000                           1  \n",
       "\n",
       "[30000 rows x 25 columns]"
      ]
     },
     "execution_count": 10,
     "metadata": {},
     "output_type": "execute_result"
    }
   ],
   "source": [
    "credit"
   ]
  },
  {
   "cell_type": "code",
   "execution_count": 11,
   "metadata": {},
   "outputs": [
    {
     "data": {
      "text/html": [
       "<div>\n",
       "<style scoped>\n",
       "    .dataframe tbody tr th:only-of-type {\n",
       "        vertical-align: middle;\n",
       "    }\n",
       "\n",
       "    .dataframe tbody tr th {\n",
       "        vertical-align: top;\n",
       "    }\n",
       "\n",
       "    .dataframe thead th {\n",
       "        text-align: right;\n",
       "    }\n",
       "</style>\n",
       "<table border=\"1\" class=\"dataframe\">\n",
       "  <thead>\n",
       "    <tr style=\"text-align: right;\">\n",
       "      <th></th>\n",
       "      <th>ID</th>\n",
       "      <th>LIMIT_BAL</th>\n",
       "      <th>SEX</th>\n",
       "      <th>EDUCATION</th>\n",
       "      <th>MARRIAGE</th>\n",
       "      <th>AGE</th>\n",
       "      <th>PAY_0</th>\n",
       "      <th>PAY_2</th>\n",
       "      <th>PAY_3</th>\n",
       "      <th>PAY_4</th>\n",
       "      <th>PAY_5</th>\n",
       "      <th>PAY_6</th>\n",
       "      <th>BILL_AMT1</th>\n",
       "      <th>BILL_AMT2</th>\n",
       "      <th>BILL_AMT3</th>\n",
       "      <th>BILL_AMT4</th>\n",
       "      <th>BILL_AMT5</th>\n",
       "      <th>BILL_AMT6</th>\n",
       "      <th>PAY_AMT1</th>\n",
       "      <th>PAY_AMT2</th>\n",
       "      <th>PAY_AMT3</th>\n",
       "      <th>PAY_AMT4</th>\n",
       "      <th>PAY_AMT5</th>\n",
       "      <th>PAY_AMT6</th>\n",
       "      <th>default payment next month</th>\n",
       "    </tr>\n",
       "  </thead>\n",
       "  <tbody>\n",
       "    <tr>\n",
       "      <td>0</td>\n",
       "      <td>1</td>\n",
       "      <td>20000</td>\n",
       "      <td>2</td>\n",
       "      <td>2</td>\n",
       "      <td>1</td>\n",
       "      <td>24</td>\n",
       "      <td>2</td>\n",
       "      <td>2</td>\n",
       "      <td>-1</td>\n",
       "      <td>-1</td>\n",
       "      <td>-2</td>\n",
       "      <td>-2</td>\n",
       "      <td>3913</td>\n",
       "      <td>3102</td>\n",
       "      <td>689</td>\n",
       "      <td>0</td>\n",
       "      <td>0</td>\n",
       "      <td>0</td>\n",
       "      <td>0</td>\n",
       "      <td>689</td>\n",
       "      <td>0</td>\n",
       "      <td>0</td>\n",
       "      <td>0</td>\n",
       "      <td>0</td>\n",
       "      <td>1</td>\n",
       "    </tr>\n",
       "    <tr>\n",
       "      <td>1</td>\n",
       "      <td>2</td>\n",
       "      <td>120000</td>\n",
       "      <td>2</td>\n",
       "      <td>2</td>\n",
       "      <td>2</td>\n",
       "      <td>26</td>\n",
       "      <td>-1</td>\n",
       "      <td>2</td>\n",
       "      <td>0</td>\n",
       "      <td>0</td>\n",
       "      <td>0</td>\n",
       "      <td>2</td>\n",
       "      <td>2682</td>\n",
       "      <td>1725</td>\n",
       "      <td>2682</td>\n",
       "      <td>3272</td>\n",
       "      <td>3455</td>\n",
       "      <td>3261</td>\n",
       "      <td>0</td>\n",
       "      <td>1000</td>\n",
       "      <td>1000</td>\n",
       "      <td>1000</td>\n",
       "      <td>0</td>\n",
       "      <td>2000</td>\n",
       "      <td>1</td>\n",
       "    </tr>\n",
       "    <tr>\n",
       "      <td>2</td>\n",
       "      <td>3</td>\n",
       "      <td>90000</td>\n",
       "      <td>2</td>\n",
       "      <td>2</td>\n",
       "      <td>2</td>\n",
       "      <td>34</td>\n",
       "      <td>0</td>\n",
       "      <td>0</td>\n",
       "      <td>0</td>\n",
       "      <td>0</td>\n",
       "      <td>0</td>\n",
       "      <td>0</td>\n",
       "      <td>29239</td>\n",
       "      <td>14027</td>\n",
       "      <td>13559</td>\n",
       "      <td>14331</td>\n",
       "      <td>14948</td>\n",
       "      <td>15549</td>\n",
       "      <td>1518</td>\n",
       "      <td>1500</td>\n",
       "      <td>1000</td>\n",
       "      <td>1000</td>\n",
       "      <td>1000</td>\n",
       "      <td>5000</td>\n",
       "      <td>0</td>\n",
       "    </tr>\n",
       "  </tbody>\n",
       "</table>\n",
       "</div>"
      ],
      "text/plain": [
       "   ID  LIMIT_BAL  SEX  EDUCATION  MARRIAGE  AGE  PAY_0  PAY_2  PAY_3  PAY_4  \\\n",
       "0   1      20000    2          2         1   24      2      2     -1     -1   \n",
       "1   2     120000    2          2         2   26     -1      2      0      0   \n",
       "2   3      90000    2          2         2   34      0      0      0      0   \n",
       "\n",
       "   PAY_5  PAY_6  BILL_AMT1  BILL_AMT2  BILL_AMT3  BILL_AMT4  BILL_AMT5  \\\n",
       "0     -2     -2       3913       3102        689          0          0   \n",
       "1      0      2       2682       1725       2682       3272       3455   \n",
       "2      0      0      29239      14027      13559      14331      14948   \n",
       "\n",
       "   BILL_AMT6  PAY_AMT1  PAY_AMT2  PAY_AMT3  PAY_AMT4  PAY_AMT5  PAY_AMT6  \\\n",
       "0          0         0       689         0         0         0         0   \n",
       "1       3261         0      1000      1000      1000         0      2000   \n",
       "2      15549      1518      1500      1000      1000      1000      5000   \n",
       "\n",
       "   default payment next month  \n",
       "0                           1  \n",
       "1                           1  \n",
       "2                           0  "
      ]
     },
     "execution_count": 11,
     "metadata": {},
     "output_type": "execute_result"
    }
   ],
   "source": [
    "credit.head(3)"
   ]
  },
  {
   "cell_type": "code",
   "execution_count": 12,
   "metadata": {},
   "outputs": [
    {
     "data": {
      "image/png": "[encoded data removed]",
      "text/plain": [
       "<Figure size 432x288 with 1 Axes>"
      ]
     },
     "metadata": {
      "needs_background": "light"
     },
     "output_type": "display_data"
    }
   ],
   "source": [
    "plt.hist(credit['LIMIT_BAL'])\n",
    "plt.show()"
   ]
  },
  {
   "cell_type": "code",
   "execution_count": 13,
   "metadata": {},
   "outputs": [
    {
     "data": {
      "text/plain": [
       "(30000, 25)"
      ]
     },
     "execution_count": 13,
     "metadata": {},
     "output_type": "execute_result"
    }
   ],
   "source": [
    "credit.shape"
   ]
  },
  {
   "cell_type": "code",
   "execution_count": 14,
   "metadata": {},
   "outputs": [
    {
     "data": {
      "text/html": [
       "<div>\n",
       "<style scoped>\n",
       "    .dataframe tbody tr th:only-of-type {\n",
       "        vertical-align: middle;\n",
       "    }\n",
       "\n",
       "    .dataframe tbody tr th {\n",
       "        vertical-align: top;\n",
       "    }\n",
       "\n",
       "    .dataframe thead th {\n",
       "        text-align: right;\n",
       "    }\n",
       "</style>\n",
       "<table border=\"1\" class=\"dataframe\">\n",
       "  <thead>\n",
       "    <tr style=\"text-align: right;\">\n",
       "      <th></th>\n",
       "      <th>ID</th>\n",
       "      <th>LIMIT_BAL</th>\n",
       "      <th>SEX</th>\n",
       "      <th>EDUCATION</th>\n",
       "      <th>MARRIAGE</th>\n",
       "      <th>AGE</th>\n",
       "      <th>PAY_0</th>\n",
       "      <th>PAY_2</th>\n",
       "      <th>PAY_3</th>\n",
       "      <th>PAY_4</th>\n",
       "      <th>PAY_5</th>\n",
       "      <th>PAY_6</th>\n",
       "      <th>BILL_AMT1</th>\n",
       "      <th>BILL_AMT2</th>\n",
       "      <th>BILL_AMT3</th>\n",
       "      <th>BILL_AMT4</th>\n",
       "      <th>BILL_AMT5</th>\n",
       "      <th>BILL_AMT6</th>\n",
       "      <th>PAY_AMT1</th>\n",
       "      <th>PAY_AMT2</th>\n",
       "      <th>PAY_AMT3</th>\n",
       "      <th>PAY_AMT4</th>\n",
       "      <th>PAY_AMT5</th>\n",
       "      <th>PAY_AMT6</th>\n",
       "      <th>default payment next month</th>\n",
       "    </tr>\n",
       "  </thead>\n",
       "  <tbody>\n",
       "    <tr>\n",
       "      <td>0</td>\n",
       "      <td>1</td>\n",
       "      <td>20000</td>\n",
       "      <td>2</td>\n",
       "      <td>2</td>\n",
       "      <td>1</td>\n",
       "      <td>24</td>\n",
       "      <td>2</td>\n",
       "      <td>2</td>\n",
       "      <td>-1</td>\n",
       "      <td>-1</td>\n",
       "      <td>-2</td>\n",
       "      <td>-2</td>\n",
       "      <td>3913</td>\n",
       "      <td>3102</td>\n",
       "      <td>689</td>\n",
       "      <td>0</td>\n",
       "      <td>0</td>\n",
       "      <td>0</td>\n",
       "      <td>0</td>\n",
       "      <td>689</td>\n",
       "      <td>0</td>\n",
       "      <td>0</td>\n",
       "      <td>0</td>\n",
       "      <td>0</td>\n",
       "      <td>1</td>\n",
       "    </tr>\n",
       "    <tr>\n",
       "      <td>1</td>\n",
       "      <td>2</td>\n",
       "      <td>120000</td>\n",
       "      <td>2</td>\n",
       "      <td>2</td>\n",
       "      <td>2</td>\n",
       "      <td>26</td>\n",
       "      <td>-1</td>\n",
       "      <td>2</td>\n",
       "      <td>0</td>\n",
       "      <td>0</td>\n",
       "      <td>0</td>\n",
       "      <td>2</td>\n",
       "      <td>2682</td>\n",
       "      <td>1725</td>\n",
       "      <td>2682</td>\n",
       "      <td>3272</td>\n",
       "      <td>3455</td>\n",
       "      <td>3261</td>\n",
       "      <td>0</td>\n",
       "      <td>1000</td>\n",
       "      <td>1000</td>\n",
       "      <td>1000</td>\n",
       "      <td>0</td>\n",
       "      <td>2000</td>\n",
       "      <td>1</td>\n",
       "    </tr>\n",
       "    <tr>\n",
       "      <td>2</td>\n",
       "      <td>3</td>\n",
       "      <td>90000</td>\n",
       "      <td>2</td>\n",
       "      <td>2</td>\n",
       "      <td>2</td>\n",
       "      <td>34</td>\n",
       "      <td>0</td>\n",
       "      <td>0</td>\n",
       "      <td>0</td>\n",
       "      <td>0</td>\n",
       "      <td>0</td>\n",
       "      <td>0</td>\n",
       "      <td>29239</td>\n",
       "      <td>14027</td>\n",
       "      <td>13559</td>\n",
       "      <td>14331</td>\n",
       "      <td>14948</td>\n",
       "      <td>15549</td>\n",
       "      <td>1518</td>\n",
       "      <td>1500</td>\n",
       "      <td>1000</td>\n",
       "      <td>1000</td>\n",
       "      <td>1000</td>\n",
       "      <td>5000</td>\n",
       "      <td>0</td>\n",
       "    </tr>\n",
       "  </tbody>\n",
       "</table>\n",
       "</div>"
      ],
      "text/plain": [
       "   ID  LIMIT_BAL  SEX  EDUCATION  MARRIAGE  AGE  PAY_0  PAY_2  PAY_3  PAY_4  \\\n",
       "0   1      20000    2          2         1   24      2      2     -1     -1   \n",
       "1   2     120000    2          2         2   26     -1      2      0      0   \n",
       "2   3      90000    2          2         2   34      0      0      0      0   \n",
       "\n",
       "   PAY_5  PAY_6  BILL_AMT1  BILL_AMT2  BILL_AMT3  BILL_AMT4  BILL_AMT5  \\\n",
       "0     -2     -2       3913       3102        689          0          0   \n",
       "1      0      2       2682       1725       2682       3272       3455   \n",
       "2      0      0      29239      14027      13559      14331      14948   \n",
       "\n",
       "   BILL_AMT6  PAY_AMT1  PAY_AMT2  PAY_AMT3  PAY_AMT4  PAY_AMT5  PAY_AMT6  \\\n",
       "0          0         0       689         0         0         0         0   \n",
       "1       3261         0      1000      1000      1000         0      2000   \n",
       "2      15549      1518      1500      1000      1000      1000      5000   \n",
       "\n",
       "   default payment next month  \n",
       "0                           1  \n",
       "1                           1  \n",
       "2                           0  "
      ]
     },
     "execution_count": 14,
     "metadata": {},
     "output_type": "execute_result"
    }
   ],
   "source": [
    "credit.head(3)"
   ]
  },
  {
   "cell_type": "code",
   "execution_count": null,
   "metadata": {},
   "outputs": [],
   "source": []
  },
  {
   "cell_type": "markdown",
   "metadata": {},
   "source": [
    "###### Data Transformation"
   ]
  },
  {
   "cell_type": "code",
   "execution_count": 15,
   "metadata": {
    "scrolled": true
   },
   "outputs": [
    {
     "name": "stdout",
     "output_type": "stream",
     "text": [
      "25\n",
      "['LoanStatNew', 'Description']\n"
     ]
    }
   ],
   "source": [
    "data_dictionary = pd.read_csv('C:/Users/yoselind/Desktop/Module5/LCDataDictionary2.csv') # Loading in the data dictionary\n",
    "print(data_dictionary.shape[0])\n",
    "print(data_dictionary.columns.tolist())"
   ]
  },
  {
   "cell_type": "code",
   "execution_count": 16,
   "metadata": {},
   "outputs": [
    {
     "data": {
      "text/html": [
       "<div>\n",
       "<style scoped>\n",
       "    .dataframe tbody tr th:only-of-type {\n",
       "        vertical-align: middle;\n",
       "    }\n",
       "\n",
       "    .dataframe tbody tr th {\n",
       "        vertical-align: top;\n",
       "    }\n",
       "\n",
       "    .dataframe thead th {\n",
       "        text-align: right;\n",
       "    }\n",
       "</style>\n",
       "<table border=\"1\" class=\"dataframe\">\n",
       "  <thead>\n",
       "    <tr style=\"text-align: right;\">\n",
       "      <th></th>\n",
       "      <th>LoanStatNew</th>\n",
       "      <th>Description</th>\n",
       "    </tr>\n",
       "  </thead>\n",
       "  <tbody>\n",
       "    <tr>\n",
       "      <td>0</td>\n",
       "      <td>ID</td>\n",
       "      <td>NaN</td>\n",
       "    </tr>\n",
       "    <tr>\n",
       "      <td>1</td>\n",
       "      <td>LIMIT_BAL</td>\n",
       "      <td>Amount of the given credit (NT dollar): it includes both the individual consumer\\ncredit and his/her family (supplementary) credit</td>\n",
       "    </tr>\n",
       "    <tr>\n",
       "      <td>2</td>\n",
       "      <td>SEX</td>\n",
       "      <td>Gender (1 = male; 2 = female)</td>\n",
       "    </tr>\n",
       "    <tr>\n",
       "      <td>3</td>\n",
       "      <td>EDUCATION</td>\n",
       "      <td>(1 = graduate school; 2 = university; 3 = high school; 0, 4, 5, 6 = others).</td>\n",
       "    </tr>\n",
       "    <tr>\n",
       "      <td>4</td>\n",
       "      <td>MARRIAGE</td>\n",
       "      <td>(1 = married; 2 = single; 3 = divorce; 0=others)</td>\n",
       "    </tr>\n",
       "  </tbody>\n",
       "</table>\n",
       "</div>"
      ],
      "text/plain": [
       "  LoanStatNew  \\\n",
       "0          ID   \n",
       "1   LIMIT_BAL   \n",
       "2         SEX   \n",
       "3   EDUCATION   \n",
       "4    MARRIAGE   \n",
       "\n",
       "                                                                                                                          Description  \n",
       "0                                                                                                                                 NaN  \n",
       "1  Amount of the given credit (NT dollar): it includes both the individual consumer\\ncredit and his/her family (supplementary) credit  \n",
       "2                                                                                                       Gender (1 = male; 2 = female)  \n",
       "3                                                        (1 = graduate school; 2 = university; 3 = high school; 0, 4, 5, 6 = others).  \n",
       "4                                                                                    (1 = married; 2 = single; 3 = divorce; 0=others)  "
      ]
     },
     "execution_count": 16,
     "metadata": {},
     "output_type": "execute_result"
    }
   ],
   "source": [
    "data_dictionary.head()"
   ]
  },
  {
   "cell_type": "code",
   "execution_count": 17,
   "metadata": {},
   "outputs": [],
   "source": [
    "data_dictionary = data_dictionary.rename(columns={'LoanStatNew': 'name', 'Description': 'description'})"
   ]
  },
  {
   "cell_type": "code",
   "execution_count": 18,
   "metadata": {},
   "outputs": [],
   "source": [
    "credit_dtypes = pd.DataFrame(credit.dtypes,columns=['dtypes'])"
   ]
  },
  {
   "cell_type": "code",
   "execution_count": 19,
   "metadata": {},
   "outputs": [],
   "source": [
    "credit_dtypes = credit_dtypes.reset_index()"
   ]
  },
  {
   "cell_type": "code",
   "execution_count": 20,
   "metadata": {},
   "outputs": [],
   "source": [
    "credit_dtypes['name'] = credit_dtypes['index']"
   ]
  },
  {
   "cell_type": "code",
   "execution_count": 21,
   "metadata": {},
   "outputs": [],
   "source": [
    "credit_dtypes = credit_dtypes[['name','dtypes']]"
   ]
  },
  {
   "cell_type": "code",
   "execution_count": 22,
   "metadata": {},
   "outputs": [],
   "source": [
    "credit_dtypes['first value'] = credit.loc[0].values"
   ]
  },
  {
   "cell_type": "code",
   "execution_count": 23,
   "metadata": {},
   "outputs": [],
   "source": [
    "preview = credit_dtypes.merge(data_dictionary, on='name',how='left')"
   ]
  },
  {
   "cell_type": "code",
   "execution_count": 24,
   "metadata": {},
   "outputs": [
    {
     "data": {
      "text/html": [
       "<div>\n",
       "<style scoped>\n",
       "    .dataframe tbody tr th:only-of-type {\n",
       "        vertical-align: middle;\n",
       "    }\n",
       "\n",
       "    .dataframe tbody tr th {\n",
       "        vertical-align: top;\n",
       "    }\n",
       "\n",
       "    .dataframe thead th {\n",
       "        text-align: right;\n",
       "    }\n",
       "</style>\n",
       "<table border=\"1\" class=\"dataframe\">\n",
       "  <thead>\n",
       "    <tr style=\"text-align: right;\">\n",
       "      <th></th>\n",
       "      <th>name</th>\n",
       "      <th>dtypes</th>\n",
       "      <th>first value</th>\n",
       "      <th>description</th>\n",
       "    </tr>\n",
       "  </thead>\n",
       "  <tbody>\n",
       "    <tr>\n",
       "      <td>0</td>\n",
       "      <td>ID</td>\n",
       "      <td>int64</td>\n",
       "      <td>1</td>\n",
       "      <td>NaN</td>\n",
       "    </tr>\n",
       "    <tr>\n",
       "      <td>1</td>\n",
       "      <td>LIMIT_BAL</td>\n",
       "      <td>int64</td>\n",
       "      <td>20000</td>\n",
       "      <td>Amount of the given credit (NT dollar): it includes both the individual consumer\\ncredit and his/her family (supplementary) credit</td>\n",
       "    </tr>\n",
       "    <tr>\n",
       "      <td>2</td>\n",
       "      <td>SEX</td>\n",
       "      <td>int64</td>\n",
       "      <td>2</td>\n",
       "      <td>Gender (1 = male; 2 = female)</td>\n",
       "    </tr>\n",
       "    <tr>\n",
       "      <td>3</td>\n",
       "      <td>EDUCATION</td>\n",
       "      <td>int64</td>\n",
       "      <td>2</td>\n",
       "      <td>(1 = graduate school; 2 = university; 3 = high school; 0, 4, 5, 6 = others).</td>\n",
       "    </tr>\n",
       "    <tr>\n",
       "      <td>4</td>\n",
       "      <td>MARRIAGE</td>\n",
       "      <td>int64</td>\n",
       "      <td>1</td>\n",
       "      <td>(1 = married; 2 = single; 3 = divorce; 0=others)</td>\n",
       "    </tr>\n",
       "  </tbody>\n",
       "</table>\n",
       "</div>"
      ],
      "text/plain": [
       "        name dtypes  first value  \\\n",
       "0         ID  int64            1   \n",
       "1  LIMIT_BAL  int64        20000   \n",
       "2        SEX  int64            2   \n",
       "3  EDUCATION  int64            2   \n",
       "4   MARRIAGE  int64            1   \n",
       "\n",
       "                                                                                                                          description  \n",
       "0                                                                                                                                 NaN  \n",
       "1  Amount of the given credit (NT dollar): it includes both the individual consumer\\ncredit and his/her family (supplementary) credit  \n",
       "2                                                                                                       Gender (1 = male; 2 = female)  \n",
       "3                                                        (1 = graduate school; 2 = university; 3 = high school; 0, 4, 5, 6 = others).  \n",
       "4                                                                                    (1 = married; 2 = single; 3 = divorce; 0=others)  "
      ]
     },
     "execution_count": 24,
     "metadata": {},
     "output_type": "execute_result"
    }
   ],
   "source": [
    "preview.head()"
   ]
  },
  {
   "cell_type": "code",
   "execution_count": 25,
   "metadata": {
    "scrolled": true
   },
   "outputs": [
    {
     "data": {
      "text/html": [
       "<div>\n",
       "<style scoped>\n",
       "    .dataframe tbody tr th:only-of-type {\n",
       "        vertical-align: middle;\n",
       "    }\n",
       "\n",
       "    .dataframe tbody tr th {\n",
       "        vertical-align: top;\n",
       "    }\n",
       "\n",
       "    .dataframe thead th {\n",
       "        text-align: right;\n",
       "    }\n",
       "</style>\n",
       "<table border=\"1\" class=\"dataframe\">\n",
       "  <thead>\n",
       "    <tr style=\"text-align: right;\">\n",
       "      <th></th>\n",
       "      <th>name</th>\n",
       "      <th>dtypes</th>\n",
       "      <th>first value</th>\n",
       "      <th>description</th>\n",
       "    </tr>\n",
       "  </thead>\n",
       "  <tbody>\n",
       "    <tr>\n",
       "      <td>0</td>\n",
       "      <td>ID</td>\n",
       "      <td>int64</td>\n",
       "      <td>1</td>\n",
       "      <td>NaN</td>\n",
       "    </tr>\n",
       "    <tr>\n",
       "      <td>1</td>\n",
       "      <td>LIMIT_BAL</td>\n",
       "      <td>int64</td>\n",
       "      <td>20000</td>\n",
       "      <td>Amount of the given credit (NT dollar): it includes both the individual consumer\\ncredit and his/her family (supplementary) credit</td>\n",
       "    </tr>\n",
       "    <tr>\n",
       "      <td>2</td>\n",
       "      <td>SEX</td>\n",
       "      <td>int64</td>\n",
       "      <td>2</td>\n",
       "      <td>Gender (1 = male; 2 = female)</td>\n",
       "    </tr>\n",
       "    <tr>\n",
       "      <td>3</td>\n",
       "      <td>EDUCATION</td>\n",
       "      <td>int64</td>\n",
       "      <td>2</td>\n",
       "      <td>(1 = graduate school; 2 = university; 3 = high school; 0, 4, 5, 6 = others).</td>\n",
       "    </tr>\n",
       "    <tr>\n",
       "      <td>4</td>\n",
       "      <td>MARRIAGE</td>\n",
       "      <td>int64</td>\n",
       "      <td>1</td>\n",
       "      <td>(1 = married; 2 = single; 3 = divorce; 0=others)</td>\n",
       "    </tr>\n",
       "    <tr>\n",
       "      <td>5</td>\n",
       "      <td>AGE</td>\n",
       "      <td>int64</td>\n",
       "      <td>24</td>\n",
       "      <td>Age (year).</td>\n",
       "    </tr>\n",
       "    <tr>\n",
       "      <td>6</td>\n",
       "      <td>PAY_0</td>\n",
       "      <td>int64</td>\n",
       "      <td>2</td>\n",
       "      <td>History of past payment. We tracked the past monthly payment records (from\\nApril to September, 2005) -2: No consumption; -1: Paid in full; 0: The use of revolving credit; 1 = payment delay\\nfor one month; 2 = payment delay for two months; . . .; 8 = payment delay for eight\\nmonths; 9 = payment delay for nine months and above</td>\n",
       "    </tr>\n",
       "    <tr>\n",
       "      <td>7</td>\n",
       "      <td>PAY_2</td>\n",
       "      <td>int64</td>\n",
       "      <td>2</td>\n",
       "      <td>History of past payment. We tracked the past monthly payment records (from\\nApril to August, 2005) -2: No consumption; -1: Paid in full; 0: The use of revolving credit; 1 = payment delay\\nfor one month; 2 = payment delay for two months; . . .; 8 = payment delay for eight\\nmonths; 9 = payment delay for nine months and above</td>\n",
       "    </tr>\n",
       "    <tr>\n",
       "      <td>8</td>\n",
       "      <td>PAY_3</td>\n",
       "      <td>int64</td>\n",
       "      <td>-1</td>\n",
       "      <td>History of past payment. We tracked the past monthly payment records (from\\nApril to Julio, 2005) -2: No consumption; -1: Paid in full; 0: The use of revolving credit; 1 = payment delay\\nfor one month; 2 = payment delay for two months; . . .; 8 = payment delay for eight\\nmonths; 9 = payment delay for nine months and above</td>\n",
       "    </tr>\n",
       "    <tr>\n",
       "      <td>9</td>\n",
       "      <td>PAY_4</td>\n",
       "      <td>int64</td>\n",
       "      <td>-1</td>\n",
       "      <td>History of past payment. We tracked the past monthly payment records (from\\nApril to Junio, 2005) -2: No consumption; -1: Paid in full; 0: The use of revolving credit; 1 = payment delay\\nfor one month; 2 = payment delay for two months; . . .; 8 = payment delay for eight\\nmonths; 9 = payment delay for nine months and above</td>\n",
       "    </tr>\n",
       "    <tr>\n",
       "      <td>10</td>\n",
       "      <td>PAY_5</td>\n",
       "      <td>int64</td>\n",
       "      <td>-2</td>\n",
       "      <td>History of past payment. We tracked the past monthly payment records (from\\nApril to Mayo, 2005) -2: No consumption; -1: Paid in full; 0: The use of revolving credit; 1 = payment delay\\nfor one month; 2 = payment delay for two months; . . .; 8 = payment delay for eight\\nmonths; 9 = payment delay for nine months and above</td>\n",
       "    </tr>\n",
       "    <tr>\n",
       "      <td>11</td>\n",
       "      <td>PAY_6</td>\n",
       "      <td>int64</td>\n",
       "      <td>-2</td>\n",
       "      <td>History of past payment. We tracked the past monthly payment records (from\\nApril to April, 2005)  -2: No consumption; -1: Paid in full; 0: The use of revolving credit; 1 = payment delay\\nfor one month; 2 = payment delay for two months; . . .; 8 = payment delay for eight\\nmonths; 9 = payment delay for nine months and above</td>\n",
       "    </tr>\n",
       "    <tr>\n",
       "      <td>12</td>\n",
       "      <td>BILL_AMT1</td>\n",
       "      <td>int64</td>\n",
       "      <td>3913</td>\n",
       "      <td>Amount of bill statement (NT dollar). X12 = amount of bill statement in\\nSeptember, 2005;</td>\n",
       "    </tr>\n",
       "    <tr>\n",
       "      <td>13</td>\n",
       "      <td>BILL_AMT2</td>\n",
       "      <td>int64</td>\n",
       "      <td>3102</td>\n",
       "      <td>Amount of bill statement (NT dollar). X12 = amount of bill statement in\\nAugust, 2005;</td>\n",
       "    </tr>\n",
       "    <tr>\n",
       "      <td>14</td>\n",
       "      <td>BILL_AMT3</td>\n",
       "      <td>int64</td>\n",
       "      <td>689</td>\n",
       "      <td>Amount of bill statement (NT dollar). X12 = amount of bill statement in\\njuly, 2005;</td>\n",
       "    </tr>\n",
       "    <tr>\n",
       "      <td>15</td>\n",
       "      <td>BILL_AMT4</td>\n",
       "      <td>int64</td>\n",
       "      <td>0</td>\n",
       "      <td>Amount of bill statement (NT dollar). X12 = amount of bill statement in\\njune, 2005;</td>\n",
       "    </tr>\n",
       "    <tr>\n",
       "      <td>16</td>\n",
       "      <td>BILL_AMT5</td>\n",
       "      <td>int64</td>\n",
       "      <td>0</td>\n",
       "      <td>Amount of bill statement (NT dollar). X12 = amount of bill statement in\\nmay, 2005;</td>\n",
       "    </tr>\n",
       "    <tr>\n",
       "      <td>17</td>\n",
       "      <td>BILL_AMT6</td>\n",
       "      <td>int64</td>\n",
       "      <td>0</td>\n",
       "      <td>Amount of bill statement (NT dollar). X12 = amount of bill statement in\\napril, 2005;</td>\n",
       "    </tr>\n",
       "    <tr>\n",
       "      <td>18</td>\n",
       "      <td>PAY_AMT1</td>\n",
       "      <td>int64</td>\n",
       "      <td>0</td>\n",
       "      <td>Amount of previous payment (NT dollar). X18 = amount paid in September,\\n2005;</td>\n",
       "    </tr>\n",
       "    <tr>\n",
       "      <td>19</td>\n",
       "      <td>PAY_AMT2</td>\n",
       "      <td>int64</td>\n",
       "      <td>689</td>\n",
       "      <td>Amount of previous payment (NT dollar).  X19 = amount paid in August, 2005</td>\n",
       "    </tr>\n",
       "    <tr>\n",
       "      <td>20</td>\n",
       "      <td>PAY_AMT3</td>\n",
       "      <td>int64</td>\n",
       "      <td>0</td>\n",
       "      <td>Amount of previous payment (NT dollar). . . .;X20 = amount paid in july, 2005.</td>\n",
       "    </tr>\n",
       "    <tr>\n",
       "      <td>21</td>\n",
       "      <td>PAY_AMT4</td>\n",
       "      <td>int64</td>\n",
       "      <td>0</td>\n",
       "      <td>Amount of previous payment (NT dollar). x21 = amount paid in june, 2005.</td>\n",
       "    </tr>\n",
       "    <tr>\n",
       "      <td>22</td>\n",
       "      <td>PAY_AMT5</td>\n",
       "      <td>int64</td>\n",
       "      <td>0</td>\n",
       "      <td>Amount of previous payment (NT dollar). X22 = amount paid in may, 2005.</td>\n",
       "    </tr>\n",
       "    <tr>\n",
       "      <td>23</td>\n",
       "      <td>PAY_AMT6</td>\n",
       "      <td>int64</td>\n",
       "      <td>0</td>\n",
       "      <td>Amount of previous payment (NT dollar). ;X23 = amount paid in April, 2005.</td>\n",
       "    </tr>\n",
       "    <tr>\n",
       "      <td>24</td>\n",
       "      <td>default payment next month</td>\n",
       "      <td>int64</td>\n",
       "      <td>1</td>\n",
       "      <td>NaN</td>\n",
       "    </tr>\n",
       "  </tbody>\n",
       "</table>\n",
       "</div>"
      ],
      "text/plain": [
       "                          name dtypes  first value  \\\n",
       "0                           ID  int64            1   \n",
       "1                    LIMIT_BAL  int64        20000   \n",
       "2                          SEX  int64            2   \n",
       "3                    EDUCATION  int64            2   \n",
       "4                     MARRIAGE  int64            1   \n",
       "5                          AGE  int64           24   \n",
       "6                        PAY_0  int64            2   \n",
       "7                        PAY_2  int64            2   \n",
       "8                        PAY_3  int64           -1   \n",
       "9                        PAY_4  int64           -1   \n",
       "10                       PAY_5  int64           -2   \n",
       "11                       PAY_6  int64           -2   \n",
       "12                   BILL_AMT1  int64         3913   \n",
       "13                   BILL_AMT2  int64         3102   \n",
       "14                   BILL_AMT3  int64          689   \n",
       "15                   BILL_AMT4  int64            0   \n",
       "16                   BILL_AMT5  int64            0   \n",
       "17                   BILL_AMT6  int64            0   \n",
       "18                    PAY_AMT1  int64            0   \n",
       "19                    PAY_AMT2  int64          689   \n",
       "20                    PAY_AMT3  int64            0   \n",
       "21                    PAY_AMT4  int64            0   \n",
       "22                    PAY_AMT5  int64            0   \n",
       "23                    PAY_AMT6  int64            0   \n",
       "24  default payment next month  int64            1   \n",
       "\n",
       "                                                                                                                                                                                                                                                                                                                                 description  \n",
       "0                                                                                                                                                                                                                                                                                                                                        NaN  \n",
       "1                                                                                                                                                                                                         Amount of the given credit (NT dollar): it includes both the individual consumer\\ncredit and his/her family (supplementary) credit  \n",
       "2                                                                                                                                                                                                                                                                                                              Gender (1 = male; 2 = female)  \n",
       "3                                                                                                                                                                                                                                                               (1 = graduate school; 2 = university; 3 = high school; 0, 4, 5, 6 = others).  \n",
       "4                                                                                                                                                                                                                                                                                           (1 = married; 2 = single; 3 = divorce; 0=others)  \n",
       "5                                                                                                                                                                                                                                                                                                                                Age (year).  \n",
       "6    History of past payment. We tracked the past monthly payment records (from\\nApril to September, 2005) -2: No consumption; -1: Paid in full; 0: The use of revolving credit; 1 = payment delay\\nfor one month; 2 = payment delay for two months; . . .; 8 = payment delay for eight\\nmonths; 9 = payment delay for nine months and above  \n",
       "7       History of past payment. We tracked the past monthly payment records (from\\nApril to August, 2005) -2: No consumption; -1: Paid in full; 0: The use of revolving credit; 1 = payment delay\\nfor one month; 2 = payment delay for two months; . . .; 8 = payment delay for eight\\nmonths; 9 = payment delay for nine months and above  \n",
       "8        History of past payment. We tracked the past monthly payment records (from\\nApril to Julio, 2005) -2: No consumption; -1: Paid in full; 0: The use of revolving credit; 1 = payment delay\\nfor one month; 2 = payment delay for two months; . . .; 8 = payment delay for eight\\nmonths; 9 = payment delay for nine months and above  \n",
       "9        History of past payment. We tracked the past monthly payment records (from\\nApril to Junio, 2005) -2: No consumption; -1: Paid in full; 0: The use of revolving credit; 1 = payment delay\\nfor one month; 2 = payment delay for two months; . . .; 8 = payment delay for eight\\nmonths; 9 = payment delay for nine months and above  \n",
       "10        History of past payment. We tracked the past monthly payment records (from\\nApril to Mayo, 2005) -2: No consumption; -1: Paid in full; 0: The use of revolving credit; 1 = payment delay\\nfor one month; 2 = payment delay for two months; . . .; 8 = payment delay for eight\\nmonths; 9 = payment delay for nine months and above  \n",
       "11      History of past payment. We tracked the past monthly payment records (from\\nApril to April, 2005)  -2: No consumption; -1: Paid in full; 0: The use of revolving credit; 1 = payment delay\\nfor one month; 2 = payment delay for two months; . . .; 8 = payment delay for eight\\nmonths; 9 = payment delay for nine months and above  \n",
       "12                                                                                                                                                                                                                                                Amount of bill statement (NT dollar). X12 = amount of bill statement in\\nSeptember, 2005;   \n",
       "13                                                                                                                                                                                                                                                   Amount of bill statement (NT dollar). X12 = amount of bill statement in\\nAugust, 2005;   \n",
       "14                                                                                                                                                                                                                                                     Amount of bill statement (NT dollar). X12 = amount of bill statement in\\njuly, 2005;   \n",
       "15                                                                                                                                                                                                                                                     Amount of bill statement (NT dollar). X12 = amount of bill statement in\\njune, 2005;   \n",
       "16                                                                                                                                                                                                                                                      Amount of bill statement (NT dollar). X12 = amount of bill statement in\\nmay, 2005;   \n",
       "17                                                                                                                                                                                                                                                    Amount of bill statement (NT dollar). X12 = amount of bill statement in\\napril, 2005;   \n",
       "18                                                                                                                                                                                                                                                            Amount of previous payment (NT dollar). X18 = amount paid in September,\\n2005;  \n",
       "19                                                                                                                                                                                                                                                                Amount of previous payment (NT dollar).  X19 = amount paid in August, 2005  \n",
       "20                                                                                                                                                                                                                                                            Amount of previous payment (NT dollar). . . .;X20 = amount paid in july, 2005.  \n",
       "21                                                                                                                                                                                                                                                                  Amount of previous payment (NT dollar). x21 = amount paid in june, 2005.  \n",
       "22                                                                                                                                                                                                                                                                   Amount of previous payment (NT dollar). X22 = amount paid in may, 2005.  \n",
       "23                                                                                                                                                                                                                                                                Amount of previous payment (NT dollar). ;X23 = amount paid in April, 2005.  \n",
       "24                                                                                                                                                                                                                                                                                                                                       NaN  "
      ]
     },
     "execution_count": 25,
     "metadata": {},
     "output_type": "execute_result"
    }
   ],
   "source": [
    "preview[:30]"
   ]
  },
  {
   "cell_type": "code",
   "execution_count": 26,
   "metadata": {},
   "outputs": [],
   "source": [
    "drop_cols = [ 'ID']"
   ]
  },
  {
   "cell_type": "code",
   "execution_count": 27,
   "metadata": {},
   "outputs": [],
   "source": [
    "credit = credit.drop(drop_cols, axis=1)"
   ]
  },
  {
   "cell_type": "code",
   "execution_count": 28,
   "metadata": {},
   "outputs": [
    {
     "data": {
      "text/html": [
       "<div>\n",
       "<style scoped>\n",
       "    .dataframe tbody tr th:only-of-type {\n",
       "        vertical-align: middle;\n",
       "    }\n",
       "\n",
       "    .dataframe tbody tr th {\n",
       "        vertical-align: top;\n",
       "    }\n",
       "\n",
       "    .dataframe thead th {\n",
       "        text-align: right;\n",
       "    }\n",
       "</style>\n",
       "<table border=\"1\" class=\"dataframe\">\n",
       "  <thead>\n",
       "    <tr style=\"text-align: right;\">\n",
       "      <th></th>\n",
       "      <th>LIMIT_BAL</th>\n",
       "      <th>SEX</th>\n",
       "      <th>EDUCATION</th>\n",
       "      <th>MARRIAGE</th>\n",
       "      <th>AGE</th>\n",
       "      <th>PAY_0</th>\n",
       "      <th>PAY_2</th>\n",
       "      <th>PAY_3</th>\n",
       "      <th>PAY_4</th>\n",
       "      <th>PAY_5</th>\n",
       "      <th>PAY_6</th>\n",
       "      <th>BILL_AMT1</th>\n",
       "      <th>BILL_AMT2</th>\n",
       "      <th>BILL_AMT3</th>\n",
       "      <th>BILL_AMT4</th>\n",
       "      <th>BILL_AMT5</th>\n",
       "      <th>BILL_AMT6</th>\n",
       "      <th>PAY_AMT1</th>\n",
       "      <th>PAY_AMT2</th>\n",
       "      <th>PAY_AMT3</th>\n",
       "      <th>PAY_AMT4</th>\n",
       "      <th>PAY_AMT5</th>\n",
       "      <th>PAY_AMT6</th>\n",
       "      <th>default payment next month</th>\n",
       "    </tr>\n",
       "  </thead>\n",
       "  <tbody>\n",
       "    <tr>\n",
       "      <td>0</td>\n",
       "      <td>20000</td>\n",
       "      <td>2</td>\n",
       "      <td>2</td>\n",
       "      <td>1</td>\n",
       "      <td>24</td>\n",
       "      <td>2</td>\n",
       "      <td>2</td>\n",
       "      <td>-1</td>\n",
       "      <td>-1</td>\n",
       "      <td>-2</td>\n",
       "      <td>-2</td>\n",
       "      <td>3913</td>\n",
       "      <td>3102</td>\n",
       "      <td>689</td>\n",
       "      <td>0</td>\n",
       "      <td>0</td>\n",
       "      <td>0</td>\n",
       "      <td>0</td>\n",
       "      <td>689</td>\n",
       "      <td>0</td>\n",
       "      <td>0</td>\n",
       "      <td>0</td>\n",
       "      <td>0</td>\n",
       "      <td>1</td>\n",
       "    </tr>\n",
       "    <tr>\n",
       "      <td>1</td>\n",
       "      <td>120000</td>\n",
       "      <td>2</td>\n",
       "      <td>2</td>\n",
       "      <td>2</td>\n",
       "      <td>26</td>\n",
       "      <td>-1</td>\n",
       "      <td>2</td>\n",
       "      <td>0</td>\n",
       "      <td>0</td>\n",
       "      <td>0</td>\n",
       "      <td>2</td>\n",
       "      <td>2682</td>\n",
       "      <td>1725</td>\n",
       "      <td>2682</td>\n",
       "      <td>3272</td>\n",
       "      <td>3455</td>\n",
       "      <td>3261</td>\n",
       "      <td>0</td>\n",
       "      <td>1000</td>\n",
       "      <td>1000</td>\n",
       "      <td>1000</td>\n",
       "      <td>0</td>\n",
       "      <td>2000</td>\n",
       "      <td>1</td>\n",
       "    </tr>\n",
       "    <tr>\n",
       "      <td>2</td>\n",
       "      <td>90000</td>\n",
       "      <td>2</td>\n",
       "      <td>2</td>\n",
       "      <td>2</td>\n",
       "      <td>34</td>\n",
       "      <td>0</td>\n",
       "      <td>0</td>\n",
       "      <td>0</td>\n",
       "      <td>0</td>\n",
       "      <td>0</td>\n",
       "      <td>0</td>\n",
       "      <td>29239</td>\n",
       "      <td>14027</td>\n",
       "      <td>13559</td>\n",
       "      <td>14331</td>\n",
       "      <td>14948</td>\n",
       "      <td>15549</td>\n",
       "      <td>1518</td>\n",
       "      <td>1500</td>\n",
       "      <td>1000</td>\n",
       "      <td>1000</td>\n",
       "      <td>1000</td>\n",
       "      <td>5000</td>\n",
       "      <td>0</td>\n",
       "    </tr>\n",
       "  </tbody>\n",
       "</table>\n",
       "</div>"
      ],
      "text/plain": [
       "   LIMIT_BAL  SEX  EDUCATION  MARRIAGE  AGE  PAY_0  PAY_2  PAY_3  PAY_4  \\\n",
       "0      20000    2          2         1   24      2      2     -1     -1   \n",
       "1     120000    2          2         2   26     -1      2      0      0   \n",
       "2      90000    2          2         2   34      0      0      0      0   \n",
       "\n",
       "   PAY_5  PAY_6  BILL_AMT1  BILL_AMT2  BILL_AMT3  BILL_AMT4  BILL_AMT5  \\\n",
       "0     -2     -2       3913       3102        689          0          0   \n",
       "1      0      2       2682       1725       2682       3272       3455   \n",
       "2      0      0      29239      14027      13559      14331      14948   \n",
       "\n",
       "   BILL_AMT6  PAY_AMT1  PAY_AMT2  PAY_AMT3  PAY_AMT4  PAY_AMT5  PAY_AMT6  \\\n",
       "0          0         0       689         0         0         0         0   \n",
       "1       3261         0      1000      1000      1000         0      2000   \n",
       "2      15549      1518      1500      1000      1000      1000      5000   \n",
       "\n",
       "   default payment next month  \n",
       "0                           1  \n",
       "1                           1  \n",
       "2                           0  "
      ]
     },
     "execution_count": 28,
     "metadata": {},
     "output_type": "execute_result"
    }
   ],
   "source": [
    "credit.head(3)"
   ]
  },
  {
   "cell_type": "code",
   "execution_count": 29,
   "metadata": {},
   "outputs": [
    {
     "data": {
      "image/png": "[encoded data removed]",
      "text/plain": [
       "<Figure size 432x288 with 1 Axes>"
      ]
     },
     "metadata": {
      "needs_background": "light"
     },
     "output_type": "display_data"
    }
   ],
   "source": [
    "plt.plot(credit['LIMIT_BAL'])\n",
    "plt.show()"
   ]
  },
  {
   "cell_type": "code",
   "execution_count": 30,
   "metadata": {},
   "outputs": [],
   "source": [
    "x = credit['PAY_0']\n",
    "y = credit['PAY_2']"
   ]
  },
  {
   "cell_type": "code",
   "execution_count": 31,
   "metadata": {},
   "outputs": [
    {
     "data": {
      "image/png": "[encoded data removed]",
      "text/plain": [
       "<Figure size 432x288 with 1 Axes>"
      ]
     },
     "metadata": {
      "needs_background": "light"
     },
     "output_type": "display_data"
    }
   ],
   "source": [
    "plt.scatter(x,y)\n",
    "plt.show()"
   ]
  },
  {
   "cell_type": "code",
   "execution_count": 32,
   "metadata": {},
   "outputs": [
    {
     "name": "stdout",
     "output_type": "stream",
     "text": [
      "Index(['LIMIT_BAL', 'SEX', 'EDUCATION', 'MARRIAGE', 'AGE', 'PAY_0', 'PAY_2',\n",
      "       'PAY_3', 'PAY_4', 'PAY_5', 'PAY_6', 'BILL_AMT1', 'BILL_AMT2',\n",
      "       'BILL_AMT3', 'BILL_AMT4', 'BILL_AMT5', 'BILL_AMT6', 'PAY_AMT1',\n",
      "       'PAY_AMT2', 'PAY_AMT3', 'PAY_AMT4', 'PAY_AMT5', 'PAY_AMT6',\n",
      "       'default payment next month'],\n",
      "      dtype='object')\n"
     ]
    }
   ],
   "source": [
    "header = credit.dtypes.index\n",
    "print(header)"
   ]
  },
  {
   "cell_type": "code",
   "execution_count": 33,
   "metadata": {},
   "outputs": [
    {
     "data": {
      "image/png": "[encoded data removed]",
      "text/plain": [
       "<Figure size 432x288 with 1 Axes>"
      ]
     },
     "metadata": {
      "needs_background": "light"
     },
     "output_type": "display_data"
    }
   ],
   "source": [
    "A = credit['BILL_AMT1']\n",
    "plt.boxplot(A,0,'gD')\n",
    "plt.show()"
   ]
  },
  {
   "cell_type": "code",
   "execution_count": 34,
   "metadata": {},
   "outputs": [
    {
     "name": "stdout",
     "output_type": "stream",
     "text": [
      "                            LIMIT_BAL       SEX  EDUCATION  MARRIAGE  \\\n",
      "LIMIT_BAL                    1.000000  0.024755  -0.219161 -0.108139   \n",
      "SEX                          0.024755  1.000000   0.014232 -0.031389   \n",
      "EDUCATION                   -0.219161  0.014232   1.000000 -0.143464   \n",
      "MARRIAGE                    -0.108139 -0.031389  -0.143464  1.000000   \n",
      "AGE                          0.144713 -0.090874   0.175061 -0.414170   \n",
      "PAY_0                       -0.271214 -0.057643   0.105364  0.019917   \n",
      "PAY_2                       -0.296382 -0.070771   0.121566  0.024199   \n",
      "PAY_3                       -0.286123 -0.066096   0.114025  0.032688   \n",
      "PAY_4                       -0.267460 -0.060173   0.108793  0.033122   \n",
      "PAY_5                       -0.249411 -0.055064   0.097520  0.035629   \n",
      "PAY_6                       -0.235195 -0.044008   0.082316  0.034345   \n",
      "BILL_AMT1                    0.285430 -0.033642   0.023581 -0.023472   \n",
      "BILL_AMT2                    0.278314 -0.031183   0.018749 -0.021602   \n",
      "BILL_AMT3                    0.283236 -0.024563   0.013002 -0.024909   \n",
      "BILL_AMT4                    0.293988 -0.021880  -0.000451 -0.023344   \n",
      "BILL_AMT5                    0.295562 -0.017005  -0.007567 -0.025393   \n",
      "BILL_AMT6                    0.290389 -0.016733  -0.009099 -0.021207   \n",
      "PAY_AMT1                     0.195236 -0.000242  -0.037456 -0.005979   \n",
      "PAY_AMT2                     0.178408 -0.001391  -0.030038 -0.008093   \n",
      "PAY_AMT3                     0.210167 -0.008597  -0.039943 -0.003541   \n",
      "PAY_AMT4                     0.203242 -0.002229  -0.038218 -0.012659   \n",
      "PAY_AMT5                     0.217202 -0.001667  -0.040358 -0.001205   \n",
      "PAY_AMT6                     0.219595 -0.002766  -0.037200 -0.006641   \n",
      "default payment next month  -0.153520 -0.039961   0.028006 -0.024339   \n",
      "\n",
      "                                 AGE     PAY_0     PAY_2     PAY_3     PAY_4  \\\n",
      "LIMIT_BAL                   0.144713 -0.271214 -0.296382 -0.286123 -0.267460   \n",
      "SEX                        -0.090874 -0.057643 -0.070771 -0.066096 -0.060173   \n",
      "EDUCATION                   0.175061  0.105364  0.121566  0.114025  0.108793   \n",
      "MARRIAGE                   -0.414170  0.019917  0.024199  0.032688  0.033122   \n",
      "AGE                         1.000000 -0.039447 -0.050148 -0.053048 -0.049722   \n",
      "PAY_0                      -0.039447  1.000000  0.672164  0.574245  0.538841   \n",
      "PAY_2                      -0.050148  0.672164  1.000000  0.766552  0.662067   \n",
      "PAY_3                      -0.053048  0.574245  0.766552  1.000000  0.777359   \n",
      "PAY_4                      -0.049722  0.538841  0.662067  0.777359  1.000000   \n",
      "PAY_5                      -0.053826  0.509426  0.622780  0.686775  0.819835   \n",
      "PAY_6                      -0.048773  0.474553  0.575501  0.632684  0.716449   \n",
      "BILL_AMT1                   0.056239  0.187068  0.234887  0.208473  0.202812   \n",
      "BILL_AMT2                   0.054283  0.189859  0.235257  0.237295  0.225816   \n",
      "BILL_AMT3                   0.053710  0.179785  0.224146  0.227494  0.244983   \n",
      "BILL_AMT4                   0.051353  0.179125  0.222237  0.227202  0.245917   \n",
      "BILL_AMT5                   0.049345  0.180635  0.221348  0.225145  0.242902   \n",
      "BILL_AMT6                   0.047613  0.176980  0.219403  0.222327  0.239154   \n",
      "PAY_AMT1                    0.026147 -0.079269 -0.080701  0.001295 -0.009362   \n",
      "PAY_AMT2                    0.021785 -0.070101 -0.058990 -0.066793 -0.001944   \n",
      "PAY_AMT3                    0.029247 -0.070561 -0.055901 -0.053311 -0.069235   \n",
      "PAY_AMT4                    0.021379 -0.064005 -0.046858 -0.046067 -0.043461   \n",
      "PAY_AMT5                    0.022850 -0.058190 -0.037093 -0.035863 -0.033590   \n",
      "PAY_AMT6                    0.019478 -0.058673 -0.036500 -0.035861 -0.026565   \n",
      "default payment next month  0.013890  0.324794  0.263551  0.235253  0.216614   \n",
      "\n",
      "                               PAY_5     PAY_6  BILL_AMT1  BILL_AMT2  \\\n",
      "LIMIT_BAL                  -0.249411 -0.235195   0.285430   0.278314   \n",
      "SEX                        -0.055064 -0.044008  -0.033642  -0.031183   \n",
      "EDUCATION                   0.097520  0.082316   0.023581   0.018749   \n",
      "MARRIAGE                    0.035629  0.034345  -0.023472  -0.021602   \n",
      "AGE                        -0.053826 -0.048773   0.056239   0.054283   \n",
      "PAY_0                       0.509426  0.474553   0.187068   0.189859   \n",
      "PAY_2                       0.622780  0.575501   0.234887   0.235257   \n",
      "PAY_3                       0.686775  0.632684   0.208473   0.237295   \n",
      "PAY_4                       0.819835  0.716449   0.202812   0.225816   \n",
      "PAY_5                       1.000000  0.816900   0.206684   0.226913   \n",
      "PAY_6                       0.816900  1.000000   0.207373   0.226924   \n",
      "BILL_AMT1                   0.206684  0.207373   1.000000   0.951484   \n",
      "BILL_AMT2                   0.226913  0.226924   0.951484   1.000000   \n",
      "BILL_AMT3                   0.243335  0.241181   0.892279   0.928326   \n",
      "BILL_AMT4                   0.271915  0.266356   0.860272   0.892482   \n",
      "BILL_AMT5                   0.269783  0.290894   0.829779   0.859778   \n",
      "BILL_AMT6                   0.262509  0.285091   0.802650   0.831594   \n",
      "PAY_AMT1                   -0.006089 -0.001496   0.140277   0.280365   \n",
      "PAY_AMT2                   -0.003191 -0.005223   0.099355   0.100851   \n",
      "PAY_AMT3                    0.009062  0.005834   0.156887   0.150718   \n",
      "PAY_AMT4                   -0.058299  0.019018   0.158303   0.147398   \n",
      "PAY_AMT5                   -0.033337 -0.046434   0.167026   0.157957   \n",
      "PAY_AMT6                   -0.023027 -0.025299   0.179341   0.174256   \n",
      "default payment next month  0.204149  0.186866  -0.019644  -0.014193   \n",
      "\n",
      "                            BILL_AMT3  BILL_AMT4  BILL_AMT5  BILL_AMT6  \\\n",
      "LIMIT_BAL                    0.283236   0.293988   0.295562   0.290389   \n",
      "SEX                         -0.024563  -0.021880  -0.017005  -0.016733   \n",
      "EDUCATION                    0.013002  -0.000451  -0.007567  -0.009099   \n",
      "MARRIAGE                    -0.024909  -0.023344  -0.025393  -0.021207   \n",
      "AGE                          0.053710   0.051353   0.049345   0.047613   \n",
      "PAY_0                        0.179785   0.179125   0.180635   0.176980   \n",
      "PAY_2                        0.224146   0.222237   0.221348   0.219403   \n",
      "PAY_3                        0.227494   0.227202   0.225145   0.222327   \n",
      "PAY_4                        0.244983   0.245917   0.242902   0.239154   \n",
      "PAY_5                        0.243335   0.271915   0.269783   0.262509   \n",
      "PAY_6                        0.241181   0.266356   0.290894   0.285091   \n",
      "BILL_AMT1                    0.892279   0.860272   0.829779   0.802650   \n",
      "BILL_AMT2                    0.928326   0.892482   0.859778   0.831594   \n",
      "BILL_AMT3                    1.000000   0.923969   0.883910   0.853320   \n",
      "BILL_AMT4                    0.923969   1.000000   0.940134   0.900941   \n",
      "BILL_AMT5                    0.883910   0.940134   1.000000   0.946197   \n",
      "BILL_AMT6                    0.853320   0.900941   0.946197   1.000000   \n",
      "PAY_AMT1                     0.244335   0.233012   0.217031   0.199965   \n",
      "PAY_AMT2                     0.316936   0.207564   0.181246   0.172663   \n",
      "PAY_AMT3                     0.130011   0.300023   0.252305   0.233770   \n",
      "PAY_AMT4                     0.143405   0.130191   0.293118   0.250237   \n",
      "PAY_AMT5                     0.179712   0.160433   0.141574   0.307729   \n",
      "PAY_AMT6                     0.182326   0.177637   0.164184   0.115494   \n",
      "default payment next month  -0.014076  -0.010156  -0.006760  -0.005372   \n",
      "\n",
      "                            PAY_AMT1  PAY_AMT2  PAY_AMT3  PAY_AMT4  PAY_AMT5  \\\n",
      "LIMIT_BAL                   0.195236  0.178408  0.210167  0.203242  0.217202   \n",
      "SEX                        -0.000242 -0.001391 -0.008597 -0.002229 -0.001667   \n",
      "EDUCATION                  -0.037456 -0.030038 -0.039943 -0.038218 -0.040358   \n",
      "MARRIAGE                   -0.005979 -0.008093 -0.003541 -0.012659 -0.001205   \n",
      "AGE                         0.026147  0.021785  0.029247  0.021379  0.022850   \n",
      "PAY_0                      -0.079269 -0.070101 -0.070561 -0.064005 -0.058190   \n",
      "PAY_2                      -0.080701 -0.058990 -0.055901 -0.046858 -0.037093   \n",
      "PAY_3                       0.001295 -0.066793 -0.053311 -0.046067 -0.035863   \n",
      "PAY_4                      -0.009362 -0.001944 -0.069235 -0.043461 -0.033590   \n",
      "PAY_5                      -0.006089 -0.003191  0.009062 -0.058299 -0.033337   \n",
      "PAY_6                      -0.001496 -0.005223  0.005834  0.019018 -0.046434   \n",
      "BILL_AMT1                   0.140277  0.099355  0.156887  0.158303  0.167026   \n",
      "BILL_AMT2                   0.280365  0.100851  0.150718  0.147398  0.157957   \n",
      "BILL_AMT3                   0.244335  0.316936  0.130011  0.143405  0.179712   \n",
      "BILL_AMT4                   0.233012  0.207564  0.300023  0.130191  0.160433   \n",
      "BILL_AMT5                   0.217031  0.181246  0.252305  0.293118  0.141574   \n",
      "BILL_AMT6                   0.199965  0.172663  0.233770  0.250237  0.307729   \n",
      "PAY_AMT1                    1.000000  0.285576  0.252191  0.199558  0.148459   \n",
      "PAY_AMT2                    0.285576  1.000000  0.244770  0.180107  0.180908   \n",
      "PAY_AMT3                    0.252191  0.244770  1.000000  0.216325  0.159214   \n",
      "PAY_AMT4                    0.199558  0.180107  0.216325  1.000000  0.151830   \n",
      "PAY_AMT5                    0.148459  0.180908  0.159214  0.151830  1.000000   \n",
      "PAY_AMT6                    0.185735  0.157634  0.162740  0.157834  0.154896   \n",
      "default payment next month -0.072929 -0.058579 -0.056250 -0.056827 -0.055124   \n",
      "\n",
      "                            PAY_AMT6  default payment next month  \n",
      "LIMIT_BAL                   0.219595                   -0.153520  \n",
      "SEX                        -0.002766                   -0.039961  \n",
      "EDUCATION                  -0.037200                    0.028006  \n",
      "MARRIAGE                   -0.006641                   -0.024339  \n",
      "AGE                         0.019478                    0.013890  \n",
      "PAY_0                      -0.058673                    0.324794  \n",
      "PAY_2                      -0.036500                    0.263551  \n",
      "PAY_3                      -0.035861                    0.235253  \n",
      "PAY_4                      -0.026565                    0.216614  \n",
      "PAY_5                      -0.023027                    0.204149  \n",
      "PAY_6                      -0.025299                    0.186866  \n",
      "BILL_AMT1                   0.179341                   -0.019644  \n",
      "BILL_AMT2                   0.174256                   -0.014193  \n",
      "BILL_AMT3                   0.182326                   -0.014076  \n",
      "BILL_AMT4                   0.177637                   -0.010156  \n",
      "BILL_AMT5                   0.164184                   -0.006760  \n",
      "BILL_AMT6                   0.115494                   -0.005372  \n",
      "PAY_AMT1                    0.185735                   -0.072929  \n",
      "PAY_AMT2                    0.157634                   -0.058579  \n",
      "PAY_AMT3                    0.162740                   -0.056250  \n",
      "PAY_AMT4                    0.157834                   -0.056827  \n",
      "PAY_AMT5                    0.154896                   -0.055124  \n",
      "PAY_AMT6                    1.000000                   -0.053183  \n",
      "default payment next month -0.053183                    1.000000  \n"
     ]
    }
   ],
   "source": [
    "corrMat = credit.corr()\n",
    "print(corrMat)"
   ]
  },
  {
   "cell_type": "code",
   "execution_count": 35,
   "metadata": {},
   "outputs": [
    {
     "name": "stdout",
     "output_type": "stream",
     "text": [
      "                               LIMIT_BAL          SEX     EDUCATION  \\\n",
      "LIMIT_BAL                   1.683446e+10  1571.050630 -22474.028945   \n",
      "SEX                         1.571051e+03     0.239247      0.005502   \n",
      "EDUCATION                  -2.247403e+04     0.005502      0.624651   \n",
      "MARRIAGE                   -7.323670e+03    -0.008014     -0.059184   \n",
      "AGE                         1.730767e+05    -0.409726      1.275380   \n",
      "PAY_0                      -3.954593e+04    -0.031685      0.093584   \n",
      "PAY_2                      -4.603765e+04    -0.041442      0.115025   \n",
      "PAY_3                      -4.443225e+04    -0.038694      0.107861   \n",
      "PAY_4                      -4.057181e+04    -0.034411      0.100528   \n",
      "PAY_5                      -3.667056e+04    -0.030521      0.087340   \n",
      "PAY_6                      -3.509308e+04    -0.024754      0.074816   \n",
      "BILL_AMT1                   2.727020e+09 -1211.694332   1372.377644   \n",
      "BILL_AMT2                   2.570130e+09 -1085.595467   1054.657595   \n",
      "BILL_AMT3                   2.548533e+09  -833.207432    712.664124   \n",
      "BILL_AMT4                   2.453926e+09  -688.489572    -22.948827   \n",
      "BILL_AMT5                   2.331481e+09  -505.694333   -363.577664   \n",
      "BILL_AMT6                   2.243837e+09  -487.430160   -428.274232   \n",
      "PAY_AMT1                    4.195711e+08    -1.964266   -490.330155   \n",
      "PAY_AMT2                    5.333504e+08   -15.675500   -547.005021   \n",
      "PAY_AMT3                    4.801180e+08   -74.034812   -555.834305   \n",
      "PAY_AMT4                    4.131202e+08   -17.080110   -473.206951   \n",
      "PAY_AMT5                    4.305657e+08   -12.458809   -487.335947   \n",
      "PAY_AMT6                    5.065153e+08   -24.051885   -522.673379   \n",
      "default payment next month -8.267552e+03    -0.008113      0.009187   \n",
      "\n",
      "                               MARRIAGE            AGE         PAY_0  \\\n",
      "LIMIT_BAL                  -7323.669658  173076.722569 -39545.930009   \n",
      "SEX                           -0.008014      -0.409726     -0.031685   \n",
      "EDUCATION                     -0.059184       1.275380      0.093584   \n",
      "MARRIAGE                       0.272452      -1.992764      0.011683   \n",
      "AGE                           -1.992764      84.969755     -0.408639   \n",
      "PAY_0                          0.011683      -0.408639      1.262930   \n",
      "PAY_2                          0.015122      -0.553408      0.904330   \n",
      "PAY_3                          0.020421      -0.585263      0.772384   \n",
      "PAY_4                          0.020213      -0.535851      0.707972   \n",
      "PAY_5                          0.021074      -0.562245      0.648743   \n",
      "PAY_6                          0.020616      -0.517022      0.613292   \n",
      "BILL_AMT1                   -902.154685   38172.933546  15480.304170   \n",
      "BILL_AMT2                   -802.517866   35613.657962  15185.916919   \n",
      "BILL_AMT3                   -901.679085   34334.251320  14011.556537   \n",
      "BILL_AMT4                   -783.881599   30453.108180  12950.248389   \n",
      "BILL_AMT5                   -805.840875   27654.067800  12341.668685   \n",
      "BILL_AMT6                   -659.223347   26137.648547  11844.759724   \n",
      "PAY_AMT1                     -51.691615    3992.041735  -1475.495089   \n",
      "PAY_AMT2                     -97.327974    4626.861549  -1815.138407   \n",
      "PAY_AMT3                     -32.546082    4746.824393  -1396.168258   \n",
      "PAY_AMT4                    -103.518204    3087.324192  -1126.847945   \n",
      "PAY_AMT5                      -9.607709    3218.052172   -999.107730   \n",
      "PAY_AMT6                     -61.623271    3191.903901  -1172.193614   \n",
      "default payment next month    -0.005273       0.053143      0.151499   \n",
      "\n",
      "                                   PAY_2         PAY_3         PAY_4  \\\n",
      "LIMIT_BAL                  -46037.648360 -44432.253315 -40571.811859   \n",
      "SEX                            -0.041442     -0.038694     -0.034411   \n",
      "EDUCATION                       0.115025      0.107861      0.100528   \n",
      "MARRIAGE                        0.015122      0.020421      0.020213   \n",
      "AGE                            -0.553408     -0.585263     -0.535851   \n",
      "PAY_0                           0.904330      0.772384      0.707972   \n",
      "PAY_2                           1.433254      1.098371      0.926680   \n",
      "PAY_3                           1.098371      1.432492      1.087761   \n",
      "PAY_4                           0.926680      1.087761      1.366885   \n",
      "PAY_5                           0.844886      0.931455      1.086161   \n",
      "PAY_6                           0.792320      0.870815      0.963263   \n",
      "BILL_AMT1                   20706.614217  18373.210469  17460.198259   \n",
      "BILL_AMT2                   20045.829482  20214.071495  18790.627741   \n",
      "BILL_AMT3                   18609.510991  18882.491544  19862.999426   \n",
      "BILL_AMT4                   17116.298983  17494.100555  18496.423186   \n",
      "BILL_AMT5                   16110.952468  16382.947539  17265.551898   \n",
      "BILL_AMT6                   15642.875812  15847.089648  16651.586314   \n",
      "PAY_AMT1                    -1600.240756     25.668468   -181.295613   \n",
      "PAY_AMT2                    -1627.192336  -1841.952825    -52.358166   \n",
      "PAY_AMT3                    -1178.331282  -1123.428782  -1425.205189   \n",
      "PAY_AMT4                     -878.843879   -863.762183   -796.035739   \n",
      "PAY_AMT5                     -678.468530   -655.796002   -599.991629   \n",
      "PAY_AMT6                     -776.835035   -763.026041   -552.137338   \n",
      "default payment next month      0.130960      0.116867      0.105115   \n",
      "\n",
      "                                   PAY_5         PAY_6     BILL_AMT1  \\\n",
      "LIMIT_BAL                  -36670.562325 -35093.083441  2.727020e+09   \n",
      "SEX                            -0.030521     -0.024754 -1.211694e+03   \n",
      "EDUCATION                       0.087340      0.074816  1.372378e+03   \n",
      "MARRIAGE                        0.021074      0.020616 -9.021547e+02   \n",
      "AGE                            -0.562245     -0.517022  3.817293e+04   \n",
      "PAY_0                           0.648743      0.613292  1.548030e+04   \n",
      "PAY_2                           0.844886      0.792320  2.070661e+04   \n",
      "PAY_3                           0.931455      0.870815  1.837321e+04   \n",
      "PAY_4                           1.086161      0.963263  1.746020e+04   \n",
      "PAY_5                           1.284114      1.064545  1.724638e+04   \n",
      "PAY_6                           1.064545      1.322472  1.756042e+04   \n",
      "BILL_AMT1                   17246.377531  17560.424872  5.422240e+09   \n",
      "BILL_AMT2                   18301.285286  18573.527165  4.986670e+09   \n",
      "BILL_AMT3                   19122.663330  19234.422476  4.556511e+09   \n",
      "BILL_AMT4                   19822.925512  19705.551629  4.075286e+09   \n",
      "BILL_AMT5                   18586.590324  20338.120325  3.714795e+09   \n",
      "BILL_AMT6                   17715.690075  19524.880348  3.519876e+09   \n",
      "PAY_AMT1                     -114.281714    -28.500666  1.710894e+08   \n",
      "PAY_AMT2                      -83.324487   -138.399452  1.685692e+08   \n",
      "PAY_AMT3                      180.812142    118.121022  2.034048e+08   \n",
      "PAY_AMT4                    -1034.961970    342.623730  1.826164e+08   \n",
      "PAY_AMT5                     -577.161017   -815.832688  1.879091e+08   \n",
      "PAY_AMT6                     -463.892613   -517.216277  2.347681e+08   \n",
      "default payment next month      0.096020      0.089194 -6.003941e+02   \n",
      "\n",
      "                               BILL_AMT2     BILL_AMT3     BILL_AMT4  \\\n",
      "LIMIT_BAL                   2.570130e+09  2.548533e+09  2.453926e+09   \n",
      "SEX                        -1.085595e+03 -8.332074e+02 -6.884896e+02   \n",
      "EDUCATION                   1.054658e+03  7.126641e+02 -2.294883e+01   \n",
      "MARRIAGE                   -8.025179e+02 -9.016791e+02 -7.838816e+02   \n",
      "AGE                         3.561366e+04  3.433425e+04  3.045311e+04   \n",
      "PAY_0                       1.518592e+04  1.401156e+04  1.295025e+04   \n",
      "PAY_2                       2.004583e+04  1.860951e+04  1.711630e+04   \n",
      "PAY_3                       2.021407e+04  1.888249e+04  1.749410e+04   \n",
      "PAY_4                       1.879063e+04  1.986300e+04  1.849642e+04   \n",
      "PAY_5                       1.830129e+04  1.912266e+04  1.982293e+04   \n",
      "PAY_6                       1.857353e+04  1.923442e+04  1.970555e+04   \n",
      "BILL_AMT1                   4.986670e+09  4.556511e+09  4.075286e+09   \n",
      "BILL_AMT2                   5.065705e+09  4.582086e+09  4.086508e+09   \n",
      "BILL_AMT3                   4.582086e+09  4.809338e+09  4.122238e+09   \n",
      "BILL_AMT4                   4.086508e+09  4.122238e+09  4.138716e+09   \n",
      "BILL_AMT5                   3.720401e+09  3.726780e+09  3.677105e+09   \n",
      "BILL_AMT6                   3.524868e+09  3.524247e+09  3.451762e+09   \n",
      "PAY_AMT1                    3.305146e+08  2.806565e+08  2.482888e+08   \n",
      "PAY_AMT2                    1.653859e+08  5.064226e+08  3.076686e+08   \n",
      "PAY_AMT3                    1.888731e+08  1.587478e+08  3.398374e+08   \n",
      "PAY_AMT4                    1.643518e+08  1.558003e+08  1.312133e+08   \n",
      "PAY_AMT5                    1.717652e+08  1.904126e+08  1.576892e+08   \n",
      "PAY_AMT6                    2.204845e+08  2.247817e+08  2.031590e+08   \n",
      "default payment next month -4.192891e+02 -4.051537e+02 -2.711999e+02   \n",
      "\n",
      "                               BILL_AMT5     BILL_AMT6      PAY_AMT1  \\\n",
      "LIMIT_BAL                   2.331481e+09  2.243837e+09  4.195711e+08   \n",
      "SEX                        -5.056943e+02 -4.874302e+02 -1.964266e+00   \n",
      "EDUCATION                  -3.635777e+02 -4.282742e+02 -4.903302e+02   \n",
      "MARRIAGE                   -8.058409e+02 -6.592233e+02 -5.169161e+01   \n",
      "AGE                         2.765407e+04  2.613765e+04  3.992042e+03   \n",
      "PAY_0                       1.234167e+04  1.184476e+04 -1.475495e+03   \n",
      "PAY_2                       1.611095e+04  1.564288e+04 -1.600241e+03   \n",
      "PAY_3                       1.638295e+04  1.584709e+04  2.566847e+01   \n",
      "PAY_4                       1.726555e+04  1.665159e+04 -1.812956e+02   \n",
      "PAY_5                       1.858659e+04  1.771569e+04 -1.142817e+02   \n",
      "PAY_6                       2.033812e+04  1.952488e+04 -2.850067e+01   \n",
      "BILL_AMT1                   3.714795e+09  3.519876e+09  1.710894e+08   \n",
      "BILL_AMT2                   3.720401e+09  3.524868e+09  3.305146e+08   \n",
      "BILL_AMT3                   3.726780e+09  3.524247e+09  2.806565e+08   \n",
      "BILL_AMT4                   3.677105e+09  3.451762e+09  2.482888e+08   \n",
      "BILL_AMT5                   3.696294e+09  3.425914e+09  2.185501e+08   \n",
      "BILL_AMT6                   3.425914e+09  3.546692e+09  1.972478e+08   \n",
      "PAY_AMT1                    2.185501e+08  1.972478e+08  2.743423e+08   \n",
      "PAY_AMT2                    2.538936e+08  2.369244e+08  1.089849e+08   \n",
      "PAY_AMT3                    2.700805e+08  2.451233e+08  7.354626e+07   \n",
      "PAY_AMT4                    2.791830e+08  2.334670e+08  5.178189e+07   \n",
      "PAY_AMT5                    1.315051e+08  2.799982e+08  3.756893e+07   \n",
      "PAY_AMT6                    1.774537e+08  1.222761e+08  5.469033e+07   \n",
      "default payment next month -1.705974e+02 -1.327963e+02 -5.013746e+02   \n",
      "\n",
      "                                PAY_AMT2      PAY_AMT3      PAY_AMT4  \\\n",
      "LIMIT_BAL                   5.333504e+08  4.801180e+08  4.131202e+08   \n",
      "SEX                        -1.567550e+01 -7.403481e+01 -1.708011e+01   \n",
      "EDUCATION                  -5.470050e+02 -5.558343e+02 -4.732070e+02   \n",
      "MARRIAGE                   -9.732797e+01 -3.254608e+01 -1.035182e+02   \n",
      "AGE                         4.626862e+03  4.746824e+03  3.087324e+03   \n",
      "PAY_0                      -1.815138e+03 -1.396168e+03 -1.126848e+03   \n",
      "PAY_2                      -1.627192e+03 -1.178331e+03 -8.788439e+02   \n",
      "PAY_3                      -1.841953e+03 -1.123429e+03 -8.637622e+02   \n",
      "PAY_4                      -5.235817e+01 -1.425205e+03 -7.960357e+02   \n",
      "PAY_5                      -8.332449e+01  1.808121e+02 -1.034962e+03   \n",
      "PAY_6                      -1.383995e+02  1.181210e+02  3.426237e+02   \n",
      "BILL_AMT1                   1.685692e+08  2.034048e+08  1.826164e+08   \n",
      "BILL_AMT2                   1.653859e+08  1.888731e+08  1.643518e+08   \n",
      "BILL_AMT3                   5.064226e+08  1.587478e+08  1.558003e+08   \n",
      "BILL_AMT4                   3.076686e+08  3.398374e+08  1.312133e+08   \n",
      "BILL_AMT5                   2.538936e+08  2.700805e+08  2.791830e+08   \n",
      "BILL_AMT6                   2.369244e+08  2.451233e+08  2.334670e+08   \n",
      "PAY_AMT1                    1.089849e+08  7.354626e+07  5.178189e+07   \n",
      "PAY_AMT2                    5.308817e+08  9.929841e+07  6.501168e+07   \n",
      "PAY_AMT3                    9.929841e+07  3.100051e+08  5.966970e+07   \n",
      "PAY_AMT4                    6.501168e+07  5.966970e+07  2.454286e+08   \n",
      "PAY_AMT5                    6.368414e+07  4.282921e+07  3.634098e+07   \n",
      "PAY_AMT6                    6.456816e+07  5.093879e+07  4.395747e+07   \n",
      "default payment next month -5.602107e+02 -4.110763e+02 -3.695159e+02   \n",
      "\n",
      "                                PAY_AMT5      PAY_AMT6  \\\n",
      "LIMIT_BAL                   4.305657e+08  5.065153e+08   \n",
      "SEX                        -1.245881e+01 -2.405188e+01   \n",
      "EDUCATION                  -4.873359e+02 -5.226734e+02   \n",
      "MARRIAGE                   -9.607709e+00 -6.162327e+01   \n",
      "AGE                         3.218052e+03  3.191904e+03   \n",
      "PAY_0                      -9.991077e+02 -1.172194e+03   \n",
      "PAY_2                      -6.784685e+02 -7.768350e+02   \n",
      "PAY_3                      -6.557960e+02 -7.630260e+02   \n",
      "PAY_4                      -5.999916e+02 -5.521373e+02   \n",
      "PAY_5                      -5.771610e+02 -4.638926e+02   \n",
      "PAY_6                      -8.158327e+02 -5.172163e+02   \n",
      "BILL_AMT1                   1.879091e+08  2.347681e+08   \n",
      "BILL_AMT2                   1.717652e+08  2.204845e+08   \n",
      "BILL_AMT3                   1.904126e+08  2.247817e+08   \n",
      "BILL_AMT4                   1.576892e+08  2.031590e+08   \n",
      "BILL_AMT5                   1.315051e+08  1.774537e+08   \n",
      "BILL_AMT6                   2.799982e+08  1.222761e+08   \n",
      "PAY_AMT1                    3.756893e+07  5.469033e+07   \n",
      "PAY_AMT2                    6.368414e+07  6.456816e+07   \n",
      "PAY_AMT3                    4.282921e+07  5.093879e+07   \n",
      "PAY_AMT4                    3.634098e+07  4.395747e+07   \n",
      "PAY_AMT5                    2.334266e+08  4.207110e+07   \n",
      "PAY_AMT6                    4.207110e+07  3.160383e+08   \n",
      "default payment next month -3.495625e+02 -3.924264e+02   \n",
      "\n",
      "                            default payment next month  \n",
      "LIMIT_BAL                                 -8267.551759  \n",
      "SEX                                          -0.008113  \n",
      "EDUCATION                                     0.009187  \n",
      "MARRIAGE                                     -0.005273  \n",
      "AGE                                           0.053143  \n",
      "PAY_0                                         0.151499  \n",
      "PAY_2                                         0.130960  \n",
      "PAY_3                                         0.116867  \n",
      "PAY_4                                         0.105115  \n",
      "PAY_5                                         0.096020  \n",
      "PAY_6                                         0.089194  \n",
      "BILL_AMT1                                  -600.394108  \n",
      "BILL_AMT2                                  -419.289137  \n",
      "BILL_AMT3                                  -405.153680  \n",
      "BILL_AMT4                                  -271.199885  \n",
      "BILL_AMT5                                  -170.597447  \n",
      "BILL_AMT6                                  -132.796294  \n",
      "PAY_AMT1                                   -501.374552  \n",
      "PAY_AMT2                                   -560.210740  \n",
      "PAY_AMT3                                   -411.076284  \n",
      "PAY_AMT4                                   -369.515887  \n",
      "PAY_AMT5                                   -349.562530  \n",
      "PAY_AMT6                                   -392.426415  \n",
      "default payment next month                    0.172276  \n"
     ]
    }
   ],
   "source": [
    "covMat = credit.cov()\n",
    "print(covMat)"
   ]
  },
  {
   "cell_type": "code",
   "execution_count": 36,
   "metadata": {
    "scrolled": true
   },
   "outputs": [
    {
     "name": "stdout",
     "output_type": "stream",
     "text": [
      "[2 1]\n"
     ]
    }
   ],
   "source": [
    "print(credit['SEX'].unique())"
   ]
  },
  {
   "cell_type": "code",
   "execution_count": 37,
   "metadata": {},
   "outputs": [
    {
     "name": "stdout",
     "output_type": "stream",
     "text": [
      "[2 1 3 5 4 6 0]\n"
     ]
    }
   ],
   "source": [
    "print(credit['EDUCATION'].unique())"
   ]
  },
  {
   "cell_type": "code",
   "execution_count": 38,
   "metadata": {},
   "outputs": [
    {
     "name": "stdout",
     "output_type": "stream",
     "text": [
      "[1 2 3 0]\n"
     ]
    }
   ],
   "source": [
    "print(credit['MARRIAGE'].unique())"
   ]
  },
  {
   "cell_type": "code",
   "execution_count": 39,
   "metadata": {},
   "outputs": [],
   "source": [
    "fico_columns = ['EDUCATION', 'MARRIAGE']"
   ]
  },
  {
   "cell_type": "code",
   "execution_count": 40,
   "metadata": {},
   "outputs": [
    {
     "name": "stdout",
     "output_type": "stream",
     "text": [
      "30000\n"
     ]
    }
   ],
   "source": [
    "print(credit.shape[0])"
   ]
  },
  {
   "cell_type": "code",
   "execution_count": 41,
   "metadata": {},
   "outputs": [],
   "source": [
    "credit.dropna(subset=fico_columns,inplace=True)"
   ]
  },
  {
   "cell_type": "code",
   "execution_count": 42,
   "metadata": {},
   "outputs": [
    {
     "name": "stdout",
     "output_type": "stream",
     "text": [
      "30000\n"
     ]
    }
   ],
   "source": [
    "print(credit.shape[0])"
   ]
  },
  {
   "cell_type": "code",
   "execution_count": 43,
   "metadata": {
    "scrolled": false
   },
   "outputs": [
    {
     "data": {
      "image/png": "[encoded data removed]",
      "text/plain": [
       "<Figure size 432x288 with 1 Axes>"
      ]
     },
     "metadata": {
      "needs_background": "light"
     },
     "output_type": "display_data"
    }
   ],
   "source": [
    "credit[fico_columns].plot.hist(alpha=0.5,bins=20);\n"
   ]
  },
  {
   "cell_type": "code",
   "execution_count": 44,
   "metadata": {},
   "outputs": [
    {
     "data": {
      "text/html": [
       "<div>\n",
       "<style scoped>\n",
       "    .dataframe tbody tr th:only-of-type {\n",
       "        vertical-align: middle;\n",
       "    }\n",
       "\n",
       "    .dataframe tbody tr th {\n",
       "        vertical-align: top;\n",
       "    }\n",
       "\n",
       "    .dataframe thead th {\n",
       "        text-align: right;\n",
       "    }\n",
       "</style>\n",
       "<table border=\"1\" class=\"dataframe\">\n",
       "  <thead>\n",
       "    <tr style=\"text-align: right;\">\n",
       "      <th></th>\n",
       "      <th>name</th>\n",
       "      <th>dtypes</th>\n",
       "      <th>first value</th>\n",
       "      <th>description</th>\n",
       "    </tr>\n",
       "  </thead>\n",
       "  <tbody>\n",
       "    <tr>\n",
       "      <td>24</td>\n",
       "      <td>default payment next month</td>\n",
       "      <td>int64</td>\n",
       "      <td>1</td>\n",
       "      <td>NaN</td>\n",
       "    </tr>\n",
       "  </tbody>\n",
       "</table>\n",
       "</div>"
      ],
      "text/plain": [
       "                          name dtypes  first value description\n",
       "24  default payment next month  int64            1         NaN"
      ]
     },
     "execution_count": 44,
     "metadata": {},
     "output_type": "execute_result"
    }
   ],
   "source": [
    "preview[preview.name == 'default payment next month']"
   ]
  },
  {
   "cell_type": "code",
   "execution_count": 45,
   "metadata": {},
   "outputs": [
    {
     "data": {
      "image/png": "[encoded data removed]",
      "text/plain": [
       "<Figure size 432x288 with 1 Axes>"
      ]
     },
     "metadata": {
      "needs_background": "light"
     },
     "output_type": "display_data"
    }
   ],
   "source": [
    "credit[fico_columns].plot.hist(alpha=0.5,bins=20);"
   ]
  },
  {
   "cell_type": "code",
   "execution_count": 46,
   "metadata": {},
   "outputs": [
    {
     "data": {
      "text/plain": [
       "0    23364\n",
       "1     6636\n",
       "Name: default payment next month, dtype: int64"
      ]
     },
     "execution_count": 46,
     "metadata": {},
     "output_type": "execute_result"
    }
   ],
   "source": [
    "credit[\"default payment next month\"].value_counts()"
   ]
  },
  {
   "cell_type": "code",
   "execution_count": 47,
   "metadata": {},
   "outputs": [
    {
     "data": {
      "text/plain": [
       " 0    15764\n",
       "-1     5938\n",
       "-2     4085\n",
       " 2     3819\n",
       " 3      240\n",
       " 4       76\n",
       " 7       27\n",
       " 6       23\n",
       " 5       21\n",
       " 1        4\n",
       " 8        3\n",
       "Name: PAY_3, dtype: int64"
      ]
     },
     "execution_count": 47,
     "metadata": {},
     "output_type": "execute_result"
    }
   ],
   "source": [
    "credit[\"PAY_3\"].value_counts()"
   ]
  },
  {
   "cell_type": "code",
   "execution_count": 48,
   "metadata": {},
   "outputs": [
    {
     "data": {
      "text/plain": [
       " 0    16455\n",
       "-1     5687\n",
       "-2     4348\n",
       " 2     3159\n",
       " 3      180\n",
       " 4       69\n",
       " 7       58\n",
       " 5       35\n",
       " 6        5\n",
       " 8        2\n",
       " 1        2\n",
       "Name: PAY_4, dtype: int64"
      ]
     },
     "execution_count": 48,
     "metadata": {},
     "output_type": "execute_result"
    }
   ],
   "source": [
    "credit[\"PAY_4\"].value_counts()"
   ]
  },
  {
   "cell_type": "code",
   "execution_count": 49,
   "metadata": {},
   "outputs": [],
   "source": [
    "credit.rename(columns = {'BILL_AMT1':'BILL_AMT_September'}, inplace = True) \n",
    "credit.rename(columns = {'BILL_AMT2':'BILL_AMT_August'}, inplace = True) \n",
    "credit.rename(columns = {'BILL_AMT3':'BILL_AMT_July'}, inplace = True) \n",
    "credit.rename(columns = {'BILL_AMT4':'BILL_AMT_June'}, inplace = True) \n",
    "credit.rename(columns = {'BILL_AMT5':'BILL_AMT_May'}, inplace = True) \n",
    "credit.rename(columns = {'BILL_AMT6':'BILL_AMT_April'}, inplace = True) "
   ]
  },
  {
   "cell_type": "code",
   "execution_count": 50,
   "metadata": {},
   "outputs": [],
   "source": [
    "credit.rename(columns = {'PAY_0':'PAY_September'}, inplace = True) \n",
    "credit.rename(columns = {'PAY_2':'PAY_August'}, inplace = True) \n",
    "credit.rename(columns = {'PAY_3':'PAY_July'}, inplace = True) \n",
    "credit.rename(columns = {'PAY_4':'PAY_June'}, inplace = True) \n",
    "credit.rename(columns = {'PAY_5':'PAY_May'}, inplace = True) \n",
    "credit.rename(columns = {'PAY_6':'PAY_April'}, inplace = True) \n"
   ]
  },
  {
   "cell_type": "code",
   "execution_count": null,
   "metadata": {},
   "outputs": [],
   "source": [
    "\n"
   ]
  },
  {
   "cell_type": "code",
   "execution_count": 51,
   "metadata": {},
   "outputs": [
    {
     "data": {
      "text/plain": [
       "LIMIT_BAL                     int64\n",
       "SEX                           int64\n",
       "EDUCATION                     int64\n",
       "MARRIAGE                      int64\n",
       "AGE                           int64\n",
       "PAY_September                 int64\n",
       "PAY_August                    int64\n",
       "PAY_July                      int64\n",
       "PAY_June                      int64\n",
       "PAY_May                       int64\n",
       "PAY_April                     int64\n",
       "BILL_AMT_September            int64\n",
       "BILL_AMT_August               int64\n",
       "BILL_AMT_July                 int64\n",
       "BILL_AMT_June                 int64\n",
       "BILL_AMT_May                  int64\n",
       "BILL_AMT_April                int64\n",
       "PAY_AMT1                      int64\n",
       "PAY_AMT2                      int64\n",
       "PAY_AMT3                      int64\n",
       "PAY_AMT4                      int64\n",
       "PAY_AMT5                      int64\n",
       "PAY_AMT6                      int64\n",
       "default payment next month    int64\n",
       "dtype: object"
      ]
     },
     "execution_count": 51,
     "metadata": {},
     "output_type": "execute_result"
    }
   ],
   "source": [
    "credit.dtypes"
   ]
  },
  {
   "cell_type": "code",
   "execution_count": 52,
   "metadata": {},
   "outputs": [],
   "source": [
    "# convert to binary value\n",
    "credit['SEX'] = credit['SEX'].astype(object)\n",
    "credit['EDUCATION'] = credit['EDUCATION'].astype(object)\n",
    "credit['MARRIAGE'] = credit['MARRIAGE'].astype(object)\n",
    "credit['PAY_September'] = credit['PAY_September'].astype(str)\n",
    "credit['PAY_May'] = credit['PAY_May'].astype(str)\n",
    "credit['PAY_April'] = credit['PAY_April'].astype(str)\n",
    "credit['PAY_August'] = credit['PAY_August'].astype(str)\n",
    "credit['PAY_June'] = credit['PAY_June'].astype(str)\n",
    "credit['PAY_July'] = credit['PAY_July'].astype(str)\n",
    "credit['BILL_AMT_September'] = credit['BILL_AMT_September'].astype(str)\n",
    "credit['BILL_AMT_May'] = credit['BILL_AMT_May'].astype(str)\n",
    "credit['BILL_AMT_April'] = credit['BILL_AMT_April'].astype(str)\n",
    "credit['BILL_AMT_August'] = credit['BILL_AMT_August'].astype(str)\n",
    "credit['BILL_AMT_June'] = credit['BILL_AMT_June'].astype(str)\n",
    "credit['BILL_AMT_July'] = credit['BILL_AMT_July'].astype(str)"
   ]
  },
  {
   "cell_type": "code",
   "execution_count": 53,
   "metadata": {},
   "outputs": [],
   "source": [
    "credit['SEX'] = credit['SEX'].astype(str)\n",
    "credit['MARRIAGE'] = credit['MARRIAGE'].astype(str)\n",
    "credit['EDUCATION'] = credit['EDUCATION'].astype(str)\n",
    "credit['AGE'] = credit['AGE'].astype(object)"
   ]
  },
  {
   "cell_type": "code",
   "execution_count": 54,
   "metadata": {},
   "outputs": [
    {
     "name": "stdout",
     "output_type": "stream",
     "text": [
      "Today's date: 2020-03-09\n"
     ]
    }
   ],
   "source": [
    "from datetime import date\n",
    "\n",
    "today = date.today()\n",
    "print(\"Today's date:\", today)"
   ]
  },
  {
   "cell_type": "code",
   "execution_count": 55,
   "metadata": {},
   "outputs": [
    {
     "data": {
      "text/plain": [
       "0        24\n",
       "1        26\n",
       "2        34\n",
       "3        37\n",
       "4        57\n",
       "         ..\n",
       "29995    39\n",
       "29996    43\n",
       "29997    37\n",
       "29998    41\n",
       "29999    46\n",
       "Name: AGE, Length: 30000, dtype: object"
      ]
     },
     "execution_count": 55,
     "metadata": {},
     "output_type": "execute_result"
    }
   ],
   "source": [
    "credit['AGE']  "
   ]
  },
  {
   "cell_type": "code",
   "execution_count": 56,
   "metadata": {},
   "outputs": [
    {
     "data": {
      "text/plain": [
       "0          3913\n",
       "1          2682\n",
       "2         29239\n",
       "3         46990\n",
       "4          8617\n",
       "          ...  \n",
       "29995    188948\n",
       "29996      1683\n",
       "29997      3565\n",
       "29998     -1645\n",
       "29999     47929\n",
       "Name: BILL_AMT_September, Length: 30000, dtype: object"
      ]
     },
     "execution_count": 56,
     "metadata": {},
     "output_type": "execute_result"
    }
   ],
   "source": [
    "credit['BILL_AMT_September']  "
   ]
  },
  {
   "cell_type": "code",
   "execution_count": 57,
   "metadata": {},
   "outputs": [
    {
     "data": {
      "text/plain": [
       "0        2\n",
       "1        2\n",
       "2        2\n",
       "3        2\n",
       "4        2\n",
       "        ..\n",
       "29995    3\n",
       "29996    3\n",
       "29997    2\n",
       "29998    3\n",
       "29999    2\n",
       "Name: EDUCATION, Length: 30000, dtype: object"
      ]
     },
     "execution_count": 57,
     "metadata": {},
     "output_type": "execute_result"
    }
   ],
   "source": [
    "credit['EDUCATION']"
   ]
  },
  {
   "cell_type": "code",
   "execution_count": 58,
   "metadata": {},
   "outputs": [
    {
     "data": {
      "text/plain": [
       "0    Undefined\n",
       "1         Male\n",
       "2       Female\n",
       "dtype: object"
      ]
     },
     "execution_count": 58,
     "metadata": {},
     "output_type": "execute_result"
    }
   ],
   "source": [
    "sr = pd.Series(['Undefined','Male', 'Female']) \n",
    "sr"
   ]
  },
  {
   "cell_type": "code",
   "execution_count": 59,
   "metadata": {},
   "outputs": [
    {
     "data": {
      "text/plain": [
       "0        2\n",
       "1        2\n",
       "2        2\n",
       "3        2\n",
       "4        1\n",
       "        ..\n",
       "29995    1\n",
       "29996    1\n",
       "29997    1\n",
       "29998    1\n",
       "29999    1\n",
       "Name: SEX, Length: 30000, dtype: object"
      ]
     },
     "execution_count": 59,
     "metadata": {},
     "output_type": "execute_result"
    }
   ],
   "source": [
    "credit['SEX']"
   ]
  },
  {
   "cell_type": "code",
   "execution_count": 60,
   "metadata": {},
   "outputs": [
    {
     "data": {
      "text/plain": [
       "0        24\n",
       "1        26\n",
       "2        34\n",
       "3        37\n",
       "4        57\n",
       "         ..\n",
       "29995    39\n",
       "29996    43\n",
       "29997    37\n",
       "29998    41\n",
       "29999    46\n",
       "Name: AGE, Length: 30000, dtype: object"
      ]
     },
     "execution_count": 60,
     "metadata": {},
     "output_type": "execute_result"
    }
   ],
   "source": [
    "credit[\"AGE\"]"
   ]
  },
  {
   "cell_type": "code",
   "execution_count": 61,
   "metadata": {},
   "outputs": [],
   "source": [
    "result = sr.str.contains(pat = 'FEMALE') "
   ]
  },
  {
   "cell_type": "code",
   "execution_count": 62,
   "metadata": {},
   "outputs": [],
   "source": [
    "credit[\"SEX\"].replace({\"1\": \"MALE\", \"2\": \"FEMALE\"}, inplace=True)"
   ]
  },
  {
   "cell_type": "code",
   "execution_count": 63,
   "metadata": {},
   "outputs": [
    {
     "data": {
      "text/plain": [
       "0    FEMALE\n",
       "1    FEMALE\n",
       "2    FEMALE\n",
       "3    FEMALE\n",
       "4      MALE\n",
       "Name: SEX, dtype: object"
      ]
     },
     "execution_count": 63,
     "metadata": {},
     "output_type": "execute_result"
    }
   ],
   "source": [
    "credit[\"SEX\"].head()"
   ]
  },
  {
   "cell_type": "code",
   "execution_count": 64,
   "metadata": {},
   "outputs": [],
   "source": [
    "credit.SEX.replace(['1', '2'], ['male', 'female'], inplace=True)\n"
   ]
  },
  {
   "cell_type": "code",
   "execution_count": 65,
   "metadata": {},
   "outputs": [],
   "source": [
    "credit.EDUCATION.replace(['1', '2', '3', '4','5','6'], ['graduate school', 'university', 'high school','others','others','others'], inplace=True)"
   ]
  },
  {
   "cell_type": "code",
   "execution_count": 66,
   "metadata": {},
   "outputs": [
    {
     "data": {
      "text/plain": [
       "0        FEMALE\n",
       "1        FEMALE\n",
       "2        FEMALE\n",
       "3        FEMALE\n",
       "4          MALE\n",
       "          ...  \n",
       "29995      MALE\n",
       "29996      MALE\n",
       "29997      MALE\n",
       "29998      MALE\n",
       "29999      MALE\n",
       "Name: SEX, Length: 30000, dtype: object"
      ]
     },
     "execution_count": 66,
     "metadata": {},
     "output_type": "execute_result"
    }
   ],
   "source": [
    "credit[\"SEX\"]"
   ]
  },
  {
   "cell_type": "code",
   "execution_count": 67,
   "metadata": {},
   "outputs": [
    {
     "data": {
      "text/plain": [
       "0         university\n",
       "1         university\n",
       "2         university\n",
       "3         university\n",
       "4         university\n",
       "            ...     \n",
       "29995    high school\n",
       "29996    high school\n",
       "29997     university\n",
       "29998    high school\n",
       "29999     university\n",
       "Name: EDUCATION, Length: 30000, dtype: object"
      ]
     },
     "execution_count": 67,
     "metadata": {},
     "output_type": "execute_result"
    }
   ],
   "source": [
    "credit[\"EDUCATION\"]"
   ]
  },
  {
   "cell_type": "code",
   "execution_count": 68,
   "metadata": {},
   "outputs": [],
   "source": [
    "credit['MARRIAGE'] = credit['MARRIAGE'].astype(str)"
   ]
  },
  {
   "cell_type": "code",
   "execution_count": 69,
   "metadata": {},
   "outputs": [],
   "source": [
    "credit.MARRIAGE.replace(['1', '2', '3', 'others'], ['married', 'single', 'divorce','others'], inplace=True)"
   ]
  },
  {
   "cell_type": "code",
   "execution_count": 70,
   "metadata": {},
   "outputs": [
    {
     "name": "stdout",
     "output_type": "stream",
     "text": [
      "                               LIMIT_BAL      PAY_AMT1      PAY_AMT2  \\\n",
      "LIMIT_BAL                   1.683446e+10  4.195711e+08  5.333504e+08   \n",
      "PAY_AMT1                    4.195711e+08  2.743423e+08  1.089849e+08   \n",
      "PAY_AMT2                    5.333504e+08  1.089849e+08  5.308817e+08   \n",
      "PAY_AMT3                    4.801180e+08  7.354626e+07  9.929841e+07   \n",
      "PAY_AMT4                    4.131202e+08  5.178189e+07  6.501168e+07   \n",
      "PAY_AMT5                    4.305657e+08  3.756893e+07  6.368414e+07   \n",
      "PAY_AMT6                    5.065153e+08  5.469033e+07  6.456816e+07   \n",
      "default payment next month -8.267552e+03 -5.013746e+02 -5.602107e+02   \n",
      "\n",
      "                                PAY_AMT3      PAY_AMT4      PAY_AMT5  \\\n",
      "LIMIT_BAL                   4.801180e+08  4.131202e+08  4.305657e+08   \n",
      "PAY_AMT1                    7.354626e+07  5.178189e+07  3.756893e+07   \n",
      "PAY_AMT2                    9.929841e+07  6.501168e+07  6.368414e+07   \n",
      "PAY_AMT3                    3.100051e+08  5.966970e+07  4.282921e+07   \n",
      "PAY_AMT4                    5.966970e+07  2.454286e+08  3.634098e+07   \n",
      "PAY_AMT5                    4.282921e+07  3.634098e+07  2.334266e+08   \n",
      "PAY_AMT6                    5.093879e+07  4.395747e+07  4.207110e+07   \n",
      "default payment next month -4.110763e+02 -3.695159e+02 -3.495625e+02   \n",
      "\n",
      "                                PAY_AMT6  default payment next month  \n",
      "LIMIT_BAL                   5.065153e+08                -8267.551759  \n",
      "PAY_AMT1                    5.469033e+07                 -501.374552  \n",
      "PAY_AMT2                    6.456816e+07                 -560.210740  \n",
      "PAY_AMT3                    5.093879e+07                 -411.076284  \n",
      "PAY_AMT4                    4.395747e+07                 -369.515887  \n",
      "PAY_AMT5                    4.207110e+07                 -349.562530  \n",
      "PAY_AMT6                    3.160383e+08                 -392.426415  \n",
      "default payment next month -3.924264e+02                    0.172276  \n"
     ]
    }
   ],
   "source": [
    "covMat = credit.cov()\n",
    "print(covMat)"
   ]
  },
  {
   "cell_type": "code",
   "execution_count": 71,
   "metadata": {},
   "outputs": [
    {
     "name": "stderr",
     "output_type": "stream",
     "text": [
      "C:\\Users\\yoselind\\AppData\\Local\\Continuum\\anaconda3\\lib\\site-packages\\seaborn\\categorical.py:3666: UserWarning: The `factorplot` function has been renamed to `catplot`. The original name will be removed in a future release. Please update your code. Note that the default `kind` in `factorplot` (`'point'`) has changed `'strip'` in `catplot`.\n",
      "  warnings.warn(msg)\n"
     ]
    },
    {
     "data": {
      "text/plain": [
       "<seaborn.axisgrid.FacetGrid at 0x2ae3aff25c8>"
      ]
     },
     "execution_count": 71,
     "metadata": {},
     "output_type": "execute_result"
    },
    {
     "data": {
      "image/png": "[encoded data removed]",
      "text/plain": [
       "<Figure size 540x360 with 1 Axes>"
      ]
     },
     "metadata": {
      "needs_background": "light"
     },
     "output_type": "display_data"
    }
   ],
   "source": [
    "# Instead of a group by, use seaborn to plot the number of males and females\n",
    "sns.factorplot('SEX', data=credit, kind='count', aspect=1.5)"
   ]
  },
  {
   "cell_type": "code",
   "execution_count": 72,
   "metadata": {},
   "outputs": [
    {
     "data": {
      "text/plain": [
       "<seaborn.axisgrid.FacetGrid at 0x2ae3b0a9c08>"
      ]
     },
     "execution_count": 72,
     "metadata": {},
     "output_type": "execute_result"
    },
    {
     "data": {
      "image/png": "[encoded data removed]",
      "text/plain": [
       "<Figure size 540x360 with 1 Axes>"
      ]
     },
     "metadata": {
      "needs_background": "light"
     },
     "output_type": "display_data"
    }
   ],
   "source": [
    "sns.factorplot('EDUCATION', data=credit, kind='count', aspect=1.5)"
   ]
  },
  {
   "cell_type": "code",
   "execution_count": 73,
   "metadata": {},
   "outputs": [
    {
     "data": {
      "text/plain": [
       "<seaborn.axisgrid.FacetGrid at 0x2ae41596888>"
      ]
     },
     "execution_count": 73,
     "metadata": {},
     "output_type": "execute_result"
    },
    {
     "data": {
      "image/png": "[encoded data removed]",
      "text/plain": [
       "<Figure size 540x360 with 1 Axes>"
      ]
     },
     "metadata": {
      "needs_background": "light"
     },
     "output_type": "display_data"
    }
   ],
   "source": [
    "sns.factorplot('MARRIAGE', data=credit, kind='count', aspect=1.5)"
   ]
  },
  {
   "cell_type": "code",
   "execution_count": 74,
   "metadata": {},
   "outputs": [
    {
     "data": {
      "text/plain": [
       "<seaborn.axisgrid.FacetGrid at 0x2ae3af09a08>"
      ]
     },
     "execution_count": 74,
     "metadata": {},
     "output_type": "execute_result"
    },
    {
     "data": {
      "image/png": "[encoded data removed]",
      "text/plain": [
       "<Figure size 540x360 with 1 Axes>"
      ]
     },
     "metadata": {
      "needs_background": "light"
     },
     "output_type": "display_data"
    }
   ],
   "source": [
    "sns.factorplot('AGE', data=credit, kind='count', aspect=1.5)"
   ]
  },
  {
   "cell_type": "code",
   "execution_count": 75,
   "metadata": {},
   "outputs": [],
   "source": [
    "credit['AGE'] = pd.cut(x=credit['AGE'], bins=[20, 29, 39, 49, 60], labels=['20s', '30s', '40s', '50+'])\n"
   ]
  },
  {
   "cell_type": "code",
   "execution_count": 76,
   "metadata": {},
   "outputs": [
    {
     "data": {
      "text/plain": [
       "<seaborn.axisgrid.FacetGrid at 0x2ae41045ac8>"
      ]
     },
     "execution_count": 76,
     "metadata": {},
     "output_type": "execute_result"
    },
    {
     "data": {
      "image/png": "[encoded data removed]",
      "text/plain": [
       "<Figure size 762.375x360 with 2 Axes>"
      ]
     },
     "metadata": {
      "needs_background": "light"
     },
     "output_type": "display_data"
    }
   ],
   "source": [
    "sns.factorplot('default payment next month', data=credit, hue='AGE', kind='count', palette='Pastel2', hue_order=range(1,4),\n",
    "              col='SEX')"
   ]
  },
  {
   "cell_type": "code",
   "execution_count": 77,
   "metadata": {
    "scrolled": true
   },
   "outputs": [
    {
     "data": {
      "text/plain": [
       "<seaborn.axisgrid.FacetGrid at 0x2ae3ae14188>"
      ]
     },
     "execution_count": 77,
     "metadata": {},
     "output_type": "execute_result"
    },
    {
     "data": {
      "image/png": "[encoded data removed]",
      "text/plain": [
       "<Figure size 540x360 with 1 Axes>"
      ]
     },
     "metadata": {
      "needs_background": "light"
     },
     "output_type": "display_data"
    }
   ],
   "source": [
    "sns.factorplot('AGE', data=credit, kind='count', aspect=1.5)"
   ]
  },
  {
   "cell_type": "code",
   "execution_count": 78,
   "metadata": {},
   "outputs": [],
   "source": [
    "credit.PAY_September.replace(['-2', '-1', '0', '1', '2','3','4','5','6','7','8'], ['No consumption', 'Paid in full', 'Use of revolving credit','payment delay 1 month', 'payment delay 2 month','payment delay 2 month++','payment delay 2 month++','payment delay 2 month++','payment delay 2 month++','payment delay 2 month++','payment delay 2 month++'], inplace=True)\n",
    "credit.PAY_May.replace(['-2', '-1', '0', '1', '2','3','4','5','6','7','8'], ['No consumption', 'Paid in full', 'Use of revolving credit','payment delay 1 month', 'payment delay 2 month','payment delay 2 month++','payment delay 2 month++','payment delay 2 month++','payment delay 2 month++','payment delay 2 month++','payment delay 2 month++'], inplace=True)\n",
    "credit.PAY_April.replace(['-2', '-1', '0', '1', '2','3','4','5','6','7','8'], ['No consumption', 'Paid in full', 'Use of revolving credit','payment delay 1 month', 'payment delay 2 month','payment delay 2 month++','payment delay 2 month++','payment delay 2 month++','payment delay 2 month++','payment delay 2 month++','payment delay 2 month++'], inplace=True)\n",
    "credit.PAY_August.replace(['-2', '-1', '0', '1', '2','3','4','5','6','7','8'], ['No consumption', 'Paid in full', 'Use of revolving credit','payment delay 1 month', 'payment delay 2 month','payment delay 2 month++','payment delay 2 month++','payment delay 2 month++','payment delay 2 month++','payment delay 2 month++','payment delay 2 month++'], inplace=True)\n",
    "credit.PAY_June.replace(['-2', '-1', '0', '1', '2','3','4','5','6','7','8'], ['No consumption', 'Paid in full', 'Use of revolving credit','payment delay 1 month', 'payment delay 2 month','payment delay 2 month++','payment delay 2 month++','payment delay 2 month++','payment delay 2 month++','payment delay 2 month++','payment delay 2 month++'], inplace=True)\n",
    "credit.PAY_July.replace(['-2', '-1', '0', '1', '2','3','4','5','6','7','8'], ['No consumption', 'Paid in full', 'Use of revolving credit','payment delay 1 month', 'payment delay 2 month','payment delay 2 month++','payment delay 2 month++','payment delay 2 month++','payment delay 2 month++','payment delay 2 month++','payment delay 2 month++'], inplace=True)\n"
   ]
  },
  {
   "cell_type": "code",
   "execution_count": 79,
   "metadata": {},
   "outputs": [
    {
     "data": {
      "text/plain": [
       "<seaborn.axisgrid.FacetGrid at 0x2ae4155fbc8>"
      ]
     },
     "execution_count": 79,
     "metadata": {},
     "output_type": "execute_result"
    },
    {
     "data": {
      "image/png": "[encoded data removed]",
      "text/plain": [
       "<Figure size 1080x360 with 1 Axes>"
      ]
     },
     "metadata": {
      "needs_background": "light"
     },
     "output_type": "display_data"
    }
   ],
   "source": [
    "sns.factorplot('PAY_September', data=credit, kind='count', aspect=3)"
   ]
  },
  {
   "cell_type": "code",
   "execution_count": 80,
   "metadata": {},
   "outputs": [
    {
     "data": {
      "text/plain": [
       "<seaborn.axisgrid.FacetGrid at 0x2ae4158dbc8>"
      ]
     },
     "execution_count": 80,
     "metadata": {},
     "output_type": "execute_result"
    },
    {
     "data": {
      "image/png": "[encoded data removed]",
      "text/plain": [
       "<Figure size 1080x360 with 1 Axes>"
      ]
     },
     "metadata": {
      "needs_background": "light"
     },
     "output_type": "display_data"
    }
   ],
   "source": [
    "sns.factorplot('PAY_August', data=credit, kind='count', aspect=3)"
   ]
  },
  {
   "cell_type": "code",
   "execution_count": 81,
   "metadata": {},
   "outputs": [
    {
     "data": {
      "text/plain": [
       "<seaborn.axisgrid.FacetGrid at 0x2ae3af73088>"
      ]
     },
     "execution_count": 81,
     "metadata": {},
     "output_type": "execute_result"
    },
    {
     "data": {
      "image/png": "[encoded data removed]",
      "text/plain": [
       "<Figure size 1080x360 with 1 Axes>"
      ]
     },
     "metadata": {
      "needs_background": "light"
     },
     "output_type": "display_data"
    }
   ],
   "source": [
    "sns.factorplot('PAY_May', data=credit, kind='count', aspect=3)"
   ]
  },
  {
   "cell_type": "code",
   "execution_count": 82,
   "metadata": {},
   "outputs": [
    {
     "data": {
      "text/plain": [
       "<seaborn.axisgrid.FacetGrid at 0x2ae41587948>"
      ]
     },
     "execution_count": 82,
     "metadata": {},
     "output_type": "execute_result"
    },
    {
     "data": {
      "image/png": "[encoded data removed]",
      "text/plain": [
       "<Figure size 1080x360 with 1 Axes>"
      ]
     },
     "metadata": {
      "needs_background": "light"
     },
     "output_type": "display_data"
    }
   ],
   "source": [
    "sns.factorplot('PAY_April', data=credit, kind='count', aspect=3)"
   ]
  }
 ],
 "metadata": {
  "kernelspec": {
   "display_name": "Python 3",
   "language": "python",
   "name": "python3"
  },
  "language_info": {
   "codemirror_mode": {
    "name": "ipython",
    "version": 3
   },
   "file_extension": ".py",
   "mimetype": "text/x-python",
   "name": "python",
   "nbconvert_exporter": "python",
   "pygments_lexer": "ipython3",
   "version": "3.7.4"
  }
 },
 "nbformat": 4,
 "nbformat_minor": 2
}
